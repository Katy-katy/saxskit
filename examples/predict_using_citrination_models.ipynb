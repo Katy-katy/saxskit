{
 "cells": [
  {
   "cell_type": "code",
   "execution_count": 1,
   "metadata": {},
   "outputs": [],
   "source": [
    "from citrination_client import CitrinationClient\n",
    "\n",
    "import pandas as pd\n",
    "import numpy as np\n",
    "from matplotlib import pyplot as plt\n",
    "import warnings\n",
    "warnings.filterwarnings(\"ignore\")"
   ]
  },
  {
   "cell_type": "code",
   "execution_count": 2,
   "metadata": {},
   "outputs": [],
   "source": [
    "from saxskit import saxs_fit, saxs_math\n",
    "from saxskit.saxs_citrination import CitrinationSaxsModels"
   ]
  },
  {
   "cell_type": "markdown",
   "metadata": {},
   "source": [
    "## Predict populations and scattering parameters using the Citrination platform"
   ]
  },
  {
   "cell_type": "markdown",
   "metadata": {},
   "source": [
    "#### Step 1. Read q (1/A) and Intensity from csv file"
   ]
  },
  {
   "cell_type": "code",
   "execution_count": 3,
   "metadata": {},
   "outputs": [],
   "source": [
    "q_I = np.genfromtxt ('sample_0.csv', delimiter=\",\")"
   ]
  },
  {
   "cell_type": "markdown",
   "metadata": {},
   "source": [
    "#### Step 2. Examine the spectrum"
   ]
  },
  {
   "cell_type": "code",
   "execution_count": 4,
   "metadata": {},
   "outputs": [
    {
     "data": {
      "image/png": "[encoded data removed]",
      "text/plain": [
       "<matplotlib.figure.Figure at 0x7f570b530438>"
      ]
     },
     "metadata": {},
     "output_type": "display_data"
    }
   ],
   "source": [
    "plt.semilogy(q_I[:,0],q_I[:,1],'-k')\n",
    "plt.show()"
   ]
  },
  {
   "cell_type": "markdown",
   "metadata": {},
   "source": [
    "#### Step 3. Calculate numerical features (profile) of the spectrum"
   ]
  },
  {
   "cell_type": "code",
   "execution_count": 5,
   "metadata": {},
   "outputs": [
    {
     "data": {
      "text/plain": [
       "OrderedDict([('Imax_over_Imean', 13.181053776872366),\n",
       "             ('Imax_sharpness', 1.0200591262893703),\n",
       "             ('I_fluctuation', 0.001038996426310348),\n",
       "             ('logI_fluctuation', 5.943073057197209),\n",
       "             ('logI_max_over_std', 3.2213864774189336),\n",
       "             ('r_fftIcentroid', 0.10056978331899331),\n",
       "             ('r_fftImax', 0.0017857142857142857),\n",
       "             ('q_Icentroid', 0.07198204747458697),\n",
       "             ('q_logIcentroid', 0.13005159629922175),\n",
       "             ('pearson_q', -0.5599102444780059),\n",
       "             ('pearson_q2', -0.4197884860266609),\n",
       "             ('pearson_expq', -0.5188467663495657),\n",
       "             ('pearson_invexpq', 0.6012800462298686)])"
      ]
     },
     "execution_count": 5,
     "metadata": {},
     "output_type": "execute_result"
    }
   ],
   "source": [
    "features = saxs_math.profile_spectrum(q_I)\n",
    "features"
   ]
  },
  {
   "cell_type": "markdown",
   "metadata": {},
   "source": [
    "#### Step 4. Create SaxsCitrination using Citrination credentials"
   ]
  },
  {
   "cell_type": "code",
   "execution_count": 6,
   "metadata": {},
   "outputs": [],
   "source": [
    "api_key_file = '../../api_key.txt'\n",
    "saxs_models = CitrinationSaxsModels(api_key_file,'https://slac.citrination.com')"
   ]
  },
  {
   "cell_type": "markdown",
   "metadata": {},
   "source": [
    "#### Step 5.  Predict scatterer populations"
   ]
  },
  {
   "cell_type": "code",
   "execution_count": 7,
   "metadata": {},
   "outputs": [
    {
     "data": {
      "text/plain": [
       "OrderedDict([('unidentified', 0),\n",
       "             ('guinier_porod', 0),\n",
       "             ('spherical_normal', 1),\n",
       "             ('diffraction_peaks', 0)])"
      ]
     },
     "execution_count": 7,
     "metadata": {},
     "output_type": "execute_result"
    }
   ],
   "source": [
    "populations, uncertainties = saxs_models.classify(features)\n",
    "populations"
   ]
  },
  {
   "cell_type": "code",
   "execution_count": 8,
   "metadata": {},
   "outputs": [
    {
     "data": {
      "text/plain": [
       "OrderedDict([('unidentified', 0.007825454281763955),\n",
       "             ('guinier_porod', 0.05050983018934078),\n",
       "             ('spherical_normal', 0.008604491365074463),\n",
       "             ('diffraction_peaks', 0.006164954858187079)])"
      ]
     },
     "execution_count": 8,
     "metadata": {},
     "output_type": "execute_result"
    }
   ],
   "source": [
    "uncertainties"
   ]
  },
  {
   "cell_type": "markdown",
   "metadata": {},
   "source": [
    "The Citrination models predict that the data are identifiable with uncertainty 0.007 and that the scatterers include one population of a normal size distribution of spherical scatterers with uncertainty 0.008. There is not a significant Guinier-Porod-like contribution with uncertainty 0.050 and there are no diffraction peaks with uncertainty 0.006. \n",
    "\n",
    "TODO: Briefly explain the uncertainty metric."
   ]
  },
  {
   "cell_type": "markdown",
   "metadata": {},
   "source": [
    "#### Step 5. Predict scattering parameters"
   ]
  },
  {
   "cell_type": "code",
   "execution_count": 9,
   "metadata": {},
   "outputs": [
    {
     "data": {
      "text/plain": [
       "OrderedDict([('r0_sphere', [27.928580936639083]),\n",
       "             ('sigma_sphere', [0.09907383296227086])])"
      ]
     },
     "execution_count": 9,
     "metadata": {},
     "output_type": "execute_result"
    }
   ],
   "source": [
    "params,uncertainties = saxs_models.predict_params(populations, features, q_I)\n",
    "params"
   ]
  },
  {
   "cell_type": "code",
   "execution_count": 10,
   "metadata": {},
   "outputs": [
    {
     "data": {
      "text/plain": [
       "OrderedDict([('r0_sphere', 0.7889737778699067),\n",
       "             ('sigma_sphere', 0.09215120039782715)])"
      ]
     },
     "execution_count": 10,
     "metadata": {},
     "output_type": "execute_result"
    }
   ],
   "source": [
    "uncertainties"
   ]
  },
  {
   "cell_type": "markdown",
   "metadata": {
    "collapsed": true
   },
   "source": [
    "The Citrination models predict the mean sphere size to be 27.93 + /- 0.79 Angstrom with fractional standard deviation of 0.099 + /- 0.092."
   ]
  },
  {
   "cell_type": "markdown",
   "metadata": {},
   "source": [
    "Parameters related to intensity (the intensities of the noise floor and spherical scattering) are now computed by constrained least-squares fitting:"
   ]
  },
  {
   "cell_type": "code",
   "execution_count": 11,
   "metadata": {},
   "outputs": [
    {
     "data": {
      "text/plain": [
       "OrderedDict([('I0_floor', [0.5447869870273797]),\n",
       "             ('I0_sphere', [3022.9838664690924]),\n",
       "             ('r0_sphere', [27.928580936639083]),\n",
       "             ('sigma_sphere', [0.09907383296227086])])"
      ]
     },
     "execution_count": 11,
     "metadata": {},
     "output_type": "execute_result"
    }
   ],
   "source": [
    "sxf = saxs_fit.SaxsFitter(q_I,populations)\n",
    "params, report = sxf.fit_intensity_params(params)\n",
    "params"
   ]
  },
  {
   "cell_type": "markdown",
   "metadata": {
    "collapsed": true
   },
   "source": [
    "#### Step 6. Evaluate the predicted spectrum"
   ]
  },
  {
   "cell_type": "code",
   "execution_count": 12,
   "metadata": {},
   "outputs": [
    {
     "data": {
      "image/png": "[encoded data removed]",
      "text/plain": [
       "<matplotlib.figure.Figure at 0x7f570934fb38>"
      ]
     },
     "metadata": {},
     "output_type": "display_data"
    }
   ],
   "source": [
    "I_estimate = saxs_math.compute_saxs(q_I[:,0],populations,params)\n",
    "plt.semilogy(q_I[:,0],q_I[:,1],'-k')\n",
    "plt.semilogy(q_I[:,0],I_estimate,'-r')\n",
    "plt.legend(['measured','estimated'])\n",
    "plt.show()"
   ]
  },
  {
   "cell_type": "markdown",
   "metadata": {},
   "source": [
    "#### Step 7. Least-squares fit the spectrum"
   ]
  },
  {
   "cell_type": "code",
   "execution_count": 13,
   "metadata": {},
   "outputs": [
    {
     "data": {
      "text/plain": [
       "OrderedDict([('I0_floor', [0.5395596007862663]),\n",
       "             ('I0_sphere', [2894.792236592506]),\n",
       "             ('r0_sphere', [27.693610837117475]),\n",
       "             ('sigma_sphere', [0.08491358339666427])])"
      ]
     },
     "execution_count": 13,
     "metadata": {},
     "output_type": "execute_result"
    }
   ],
   "source": [
    "params_opt, rpt = sxf.fit(params)\n",
    "params_opt"
   ]
  },
  {
   "cell_type": "code",
   "execution_count": 14,
   "metadata": {},
   "outputs": [
    {
     "data": {
      "image/png": "[encoded data removed]",
      "text/plain": [
       "<matplotlib.figure.Figure at 0x7f5708ad0f60>"
      ]
     },
     "metadata": {},
     "output_type": "display_data"
    }
   ],
   "source": [
    "I_opt = saxs_math.compute_saxs(q_I[:,0],populations,params_opt)\n",
    "plt.semilogy(q_I[:,0],q_I[:,1],'-k')\n",
    "plt.semilogy(q_I[:,0],I_estimate,'-r')\n",
    "plt.semilogy(q_I[:,0],I_opt,'-g')\n",
    "plt.legend(['measured','estimated (ML)','fit (least-squares)'])\n",
    "plt.show()"
   ]
  },
  {
   "cell_type": "code",
   "execution_count": null,
   "metadata": {},
   "outputs": [],
   "source": []
  }
 ],
 "metadata": {
  "kernelspec": {
   "display_name": "Python 3",
   "language": "python",
   "name": "python3"
  },
  "language_info": {
   "codemirror_mode": {
    "name": "ipython",
    "version": 3
   },
   "file_extension": ".py",
   "mimetype": "text/x-python",
   "name": "python",
   "nbconvert_exporter": "python",
   "pygments_lexer": "ipython3",
   "version": "3.5.2"
  }
 },
 "nbformat": 4,
 "nbformat_minor": 2
}
