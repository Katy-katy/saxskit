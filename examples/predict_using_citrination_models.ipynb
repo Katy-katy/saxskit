{
 "cells": [
  {
   "cell_type": "code",
   "execution_count": 1,
   "metadata": {
    "collapsed": true
   },
   "outputs": [],
   "source": [
    "from citrination_client import CitrinationClient\n",
    "\n",
    "import pandas as pd\n",
    "import numpy as np\n",
    "from matplotlib import pyplot as plt\n",
    "import warnings\n",
    "warnings.filterwarnings(\"ignore\")"
   ]
  },
  {
   "cell_type": "code",
   "execution_count": 2,
   "metadata": {
    "collapsed": true
   },
   "outputs": [],
   "source": [
    "from saxskit.saxs_math import profile_spectrum\n",
    "from saxskit.saxs_citrination import CitrinationSaxsClassifer"
   ]
  },
  {
   "cell_type": "markdown",
   "metadata": {},
   "source": [
    "## Predict populations and scattering parameters from measured data"
   ]
  },
  {
   "cell_type": "markdown",
   "metadata": {},
   "source": [
    "#### Step 1. Read q (1/A) and Intensity from csv file"
   ]
  },
  {
   "cell_type": "code",
   "execution_count": 3,
   "metadata": {
    "collapsed": true
   },
   "outputs": [],
   "source": [
    "q_I = np.genfromtxt ('sample_0.csv', delimiter=\",\")"
   ]
  },
  {
   "cell_type": "markdown",
   "metadata": {},
   "source": [
    "#### Step 2. Examine the spectrum"
   ]
  },
  {
   "cell_type": "code",
   "execution_count": 4,
   "metadata": {},
   "outputs": [
    {
     "data": {
      "image/png": "[encoded data removed]",
      "text/plain": [
       "<matplotlib.figure.Figure at 0x109a3ed30>"
      ]
     },
     "metadata": {},
     "output_type": "display_data"
    }
   ],
   "source": [
    "plt.semilogy(q_I[:,0],q_I[:,1],'-k')\n",
    "plt.show()"
   ]
  },
  {
   "cell_type": "markdown",
   "metadata": {},
   "source": [
    "#### Step 3. Calculate numerical features (profile) of the spectrum"
   ]
  },
  {
   "cell_type": "code",
   "execution_count": 5,
   "metadata": {},
   "outputs": [
    {
     "data": {
      "text/plain": [
       "OrderedDict([('Imax_over_Imean', 13.181053776872366),\n",
       "             ('Imax_sharpness', 1.0200591262893703),\n",
       "             ('I_fluctuation', 0.0010389964263103481),\n",
       "             ('logI_fluctuation', 5.9430730571972088),\n",
       "             ('logI_max_over_std', 3.2213864774189336),\n",
       "             ('r_fftIcentroid', 0.10056978331899331),\n",
       "             ('r_fftImax', 0.0017857142857142857),\n",
       "             ('q_Icentroid', 0.071982047474586974),\n",
       "             ('q_logIcentroid', 0.13005159629922175),\n",
       "             ('pearson_q', -0.55991024447800586),\n",
       "             ('pearson_q2', -0.41978848602666091),\n",
       "             ('pearson_expq', -0.51884676634956572),\n",
       "             ('pearson_invexpq', 0.60128004622986864)])"
      ]
     },
     "execution_count": 5,
     "metadata": {},
     "output_type": "execute_result"
    }
   ],
   "source": [
    "features = profile_spectrum(q_I)\n",
    "features"
   ]
  },
  {
   "cell_type": "markdown",
   "metadata": {},
   "source": [
    "#### Step 4. Create SaxsCitrination using Citrination credentials"
   ]
  },
  {
   "cell_type": "code",
   "execution_count": 6,
   "metadata": {
    "collapsed": true
   },
   "outputs": [],
   "source": [
    "m = CitrinationSaxsClassifer('https://slac.citrination.com',\"../../citrination_api_key_ssrl.txt\")"
   ]
  },
  {
   "cell_type": "markdown",
   "metadata": {},
   "source": [
    "#### Step 5.  Predict scatterer populations"
   ]
  },
  {
   "cell_type": "code",
   "execution_count": 7,
   "metadata": {},
   "outputs": [
    {
     "data": {
      "text/plain": [
       "OrderedDict([('unidentified', ['0', 0.007825454281763955]),\n",
       "             ('guinier_porod', ['0', 0.05050983018934078]),\n",
       "             ('spherical_normal', ['1', 0.008604491365074463]),\n",
       "             ('diffraction_peaks', ['0', 0.006164954858187079])])"
      ]
     },
     "execution_count": 7,
     "metadata": {},
     "output_type": "execute_result"
    }
   ],
   "source": [
    "result = m.citrination_classify(features)\n",
    "result"
   ]
  },
  {
   "cell_type": "markdown",
   "metadata": {},
   "source": [
    "#### Step 5. Predict scattering parameters"
   ]
  },
  {
   "cell_type": "code",
   "execution_count": 9,
   "metadata": {},
   "outputs": [
    {
     "data": {
      "text/plain": [
       "OrderedDict([('I0_floor', None),\n",
       "             ('G_gp', None),\n",
       "             ('rg_gp', None),\n",
       "             ('D_gp', None),\n",
       "             ('I0_sphere', None),\n",
       "             ('r0_sphere', [27.928580936639083, 0.7889737778699067]),\n",
       "             ('sigma_sphere', [0.09907383296227086, 0.09215120039782715]),\n",
       "             ('I_pkcenter', None),\n",
       "             ('q_pkcenter', None),\n",
       "             ('pk_hwhm', None)])"
      ]
     },
     "execution_count": 9,
     "metadata": {},
     "output_type": "execute_result"
    }
   ],
   "source": [
    "result2 = m.citrination_predict(result, features, q_I)\n",
    "result2"
   ]
  },
  {
   "cell_type": "code",
   "execution_count": null,
   "metadata": {
    "collapsed": true
   },
   "outputs": [],
   "source": []
  }
 ],
 "metadata": {
  "kernelspec": {
   "display_name": "Python 3",
   "language": "python",
   "name": "python3"
  },
  "language_info": {
   "codemirror_mode": {
    "name": "ipython",
    "version": 3
   },
   "file_extension": ".py",
   "mimetype": "text/x-python",
   "name": "python",
   "nbconvert_exporter": "python",
   "pygments_lexer": "ipython3",
   "version": "3.6.2"
  }
 },
 "nbformat": 4,
 "nbformat_minor": 2
}
