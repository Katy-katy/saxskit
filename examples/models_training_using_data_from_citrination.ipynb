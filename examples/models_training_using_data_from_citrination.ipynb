{
 "cells": [
  {
   "cell_type": "markdown",
   "metadata": {},
   "source": [
    "# Training models using data from Citrination."
   ]
  },
  {
   "cell_type": "code",
   "execution_count": 1,
   "metadata": {
    "collapsed": true
   },
   "outputs": [],
   "source": [
    "from citrination_client import CitrinationClient\n",
    "from saxskit.saxs_models import get_data_from_Citrination\n",
    "from saxskit.saxs_models import train_classifiers, train_regressors\n",
    "from time import time\n",
    "\n",
    "import warnings\n",
    "warnings.filterwarnings(\"ignore\")"
   ]
  },
  {
   "cell_type": "code",
   "execution_count": 2,
   "metadata": {
    "collapsed": true
   },
   "outputs": [],
   "source": [
    "with open(\"../../citrination_api_key_ssrl.txt\", \"r\") as g:\n",
    "    api_key = g.readline()\n",
    "\n",
    "a_key = api_key.strip()\n",
    "\n",
    "cl = CitrinationClient(site='https://slac.citrination.com',api_key=a_key )"
   ]
  },
  {
   "cell_type": "markdown",
   "metadata": {},
   "source": [
    "SAXSKIT provides two options for training:\n",
    "* training from scratch\n",
    "* updating existing models using additional data\n",
    "\n",
    "\"training from scratch\" is useful for initial training or when we have a lot of new data (more than 30%). It is recommended to use \"hyper_parameters_search = True.\" \n",
    "\n",
    "Updating existing models is recommended when we have some new data (less than 30%). Updating existing models takes significant less time than \"training from scratch\"\n",
    "\n",
    "\n",
    "\n",
    "## Training from \"scratch\"\n",
    "\n",
    "Let's assume that initially we have only two datasets: 1 and 15. We want to use them to create the models."
   ]
  },
  {
   "cell_type": "markdown",
   "metadata": {},
   "source": [
    "#### Step 1. Get data from Citrination"
   ]
  },
  {
   "cell_type": "code",
   "execution_count": 3,
   "metadata": {},
   "outputs": [],
   "source": [
    "data = get_data_from_Citrination(client = cl, dataset_id_list= [1,15]) # [1,15] is a list of datasets ids"
   ]
  },
  {
   "cell_type": "markdown",
   "metadata": {},
   "source": [
    "**data** is pandas data frame that contains:\n",
    "* experiment_id - It will be used for grouping for creating crossvaligdation folders during the training. Often samples from the same experiment are very similar and we should avoid to to have the samples from the same experiment in training and validation sets\n",
    "* 20 features: 'Imax_over_Imean', 'Imax_sharpness', 'I_fluctuation',\n",
    "       'logI_fluctuation', 'logI_max_over_std', 'r_fftIcentroid', 'r_fftImax',\n",
    "       'q_Icentroid', 'q_logIcentroid', 'pearson_q', 'pearson_q2',\n",
    "       'pearson_expq', 'pearson_invexpq', 'I0_over_Imean', 'I0_curvature',\n",
    "       'q_at_half_I0', 'q_at_Iq4_min1', 'pIq4_qwidth', 'pI_qvertex',\n",
    "       'pI_qwidth'\n",
    "* 4 True / False labels: 'unidentified', 'guinier_porod', 'spherical_normal',\n",
    "       'diffraction_peaks'. If a sample have 'unidentified = True', it also have \"False\" for all other labels\n",
    "* 10 continuouse labels: 'I0_floor', 'G_gp', 'rg_gp', 'D_gp', 'I0_sphere',\n",
    "       'r0_sphere', 'sigma_sphere', 'I_pkcenter', 'q_pkcenter', 'pk_hwhm'. Some samples have \"None\" for some of these labels. For example, only samples with 'spherical_normal =  True' have some value for 'sigma_sphere'"
   ]
  },
  {
   "cell_type": "code",
   "execution_count": 4,
   "metadata": {},
   "outputs": [
    {
     "data": {
      "text/html": [
       "<div>\n",
       "<style>\n",
       "    .dataframe thead tr:only-child th {\n",
       "        text-align: right;\n",
       "    }\n",
       "\n",
       "    .dataframe thead th {\n",
       "        text-align: left;\n",
       "    }\n",
       "\n",
       "    .dataframe tbody tr th {\n",
       "        vertical-align: top;\n",
       "    }\n",
       "</style>\n",
       "<table border=\"1\" class=\"dataframe\">\n",
       "  <thead>\n",
       "    <tr style=\"text-align: right;\">\n",
       "      <th></th>\n",
       "      <th>experiment_id</th>\n",
       "      <th>Imax_over_Imean</th>\n",
       "      <th>Imax_sharpness</th>\n",
       "      <th>I_fluctuation</th>\n",
       "      <th>logI_fluctuation</th>\n",
       "      <th>logI_max_over_std</th>\n",
       "      <th>r_fftIcentroid</th>\n",
       "      <th>r_fftImax</th>\n",
       "      <th>q_Icentroid</th>\n",
       "      <th>q_logIcentroid</th>\n",
       "      <th>...</th>\n",
       "      <th>I0_floor</th>\n",
       "      <th>G_gp</th>\n",
       "      <th>rg_gp</th>\n",
       "      <th>D_gp</th>\n",
       "      <th>I0_sphere</th>\n",
       "      <th>r0_sphere</th>\n",
       "      <th>sigma_sphere</th>\n",
       "      <th>I_pkcenter</th>\n",
       "      <th>q_pkcenter</th>\n",
       "      <th>pk_hwhm</th>\n",
       "    </tr>\n",
       "  </thead>\n",
       "  <tbody>\n",
       "    <tr>\n",
       "      <th>191</th>\n",
       "      <td>R1</td>\n",
       "      <td>18.6673</td>\n",
       "      <td>1.03119</td>\n",
       "      <td>0.00109872</td>\n",
       "      <td>3.59799</td>\n",
       "      <td>3.02239</td>\n",
       "      <td>0.107509</td>\n",
       "      <td>0.00185529</td>\n",
       "      <td>0.0653252</td>\n",
       "      <td>-0.239971</td>\n",
       "      <td>...</td>\n",
       "      <td>0.240559</td>\n",
       "      <td>None</td>\n",
       "      <td>None</td>\n",
       "      <td>None</td>\n",
       "      <td>1454.74</td>\n",
       "      <td>33.6663</td>\n",
       "      <td>0.0521611</td>\n",
       "      <td>None</td>\n",
       "      <td>None</td>\n",
       "      <td>None</td>\n",
       "    </tr>\n",
       "    <tr>\n",
       "      <th>125</th>\n",
       "      <td>R1</td>\n",
       "      <td>18.7091</td>\n",
       "      <td>1.03054</td>\n",
       "      <td>0.00109695</td>\n",
       "      <td>4.94637</td>\n",
       "      <td>3.04098</td>\n",
       "      <td>0.107607</td>\n",
       "      <td>0.00185529</td>\n",
       "      <td>0.0651664</td>\n",
       "      <td>-0.216147</td>\n",
       "      <td>...</td>\n",
       "      <td>0.235522</td>\n",
       "      <td>None</td>\n",
       "      <td>None</td>\n",
       "      <td>None</td>\n",
       "      <td>1573.42</td>\n",
       "      <td>33.7184</td>\n",
       "      <td>0.0453875</td>\n",
       "      <td>None</td>\n",
       "      <td>None</td>\n",
       "      <td>None</td>\n",
       "    </tr>\n",
       "    <tr>\n",
       "      <th>817</th>\n",
       "      <td>R5</td>\n",
       "      <td>18.6484</td>\n",
       "      <td>1.03019</td>\n",
       "      <td>0.00108724</td>\n",
       "      <td>4.96878</td>\n",
       "      <td>3.13777</td>\n",
       "      <td>0.107417</td>\n",
       "      <td>0.00185529</td>\n",
       "      <td>0.065241</td>\n",
       "      <td>-0.0914662</td>\n",
       "      <td>...</td>\n",
       "      <td>0.276159</td>\n",
       "      <td>None</td>\n",
       "      <td>None</td>\n",
       "      <td>None</td>\n",
       "      <td>1969.04</td>\n",
       "      <td>33.916</td>\n",
       "      <td>0.0413327</td>\n",
       "      <td>None</td>\n",
       "      <td>None</td>\n",
       "      <td>None</td>\n",
       "    </tr>\n",
       "    <tr>\n",
       "      <th>1185</th>\n",
       "      <td>R12</td>\n",
       "      <td>42.4029</td>\n",
       "      <td>2.15578</td>\n",
       "      <td>0.0022293</td>\n",
       "      <td>5.55918</td>\n",
       "      <td>3.34202</td>\n",
       "      <td>0.0663934</td>\n",
       "      <td>0.00171821</td>\n",
       "      <td>0.106922</td>\n",
       "      <td>1.26546</td>\n",
       "      <td>...</td>\n",
       "      <td>0</td>\n",
       "      <td>None</td>\n",
       "      <td>None</td>\n",
       "      <td>None</td>\n",
       "      <td>None</td>\n",
       "      <td>None</td>\n",
       "      <td>None</td>\n",
       "      <td>None</td>\n",
       "      <td>None</td>\n",
       "      <td>None</td>\n",
       "    </tr>\n",
       "    <tr>\n",
       "      <th>647</th>\n",
       "      <td>R4</td>\n",
       "      <td>75.0283</td>\n",
       "      <td>2.95092</td>\n",
       "      <td>0.00235101</td>\n",
       "      <td>51.0107</td>\n",
       "      <td>3.98897</td>\n",
       "      <td>0.0885655</td>\n",
       "      <td>0.00185529</td>\n",
       "      <td>0.0924768</td>\n",
       "      <td>-1.70073</td>\n",
       "      <td>...</td>\n",
       "      <td>0</td>\n",
       "      <td>None</td>\n",
       "      <td>None</td>\n",
       "      <td>None</td>\n",
       "      <td>None</td>\n",
       "      <td>None</td>\n",
       "      <td>None</td>\n",
       "      <td>None</td>\n",
       "      <td>None</td>\n",
       "      <td>None</td>\n",
       "    </tr>\n",
       "  </tbody>\n",
       "</table>\n",
       "<p>5 rows × 35 columns</p>\n",
       "</div>"
      ],
      "text/plain": [
       "     experiment_id Imax_over_Imean Imax_sharpness I_fluctuation  \\\n",
       "191             R1         18.6673        1.03119    0.00109872   \n",
       "125             R1         18.7091        1.03054    0.00109695   \n",
       "817             R5         18.6484        1.03019    0.00108724   \n",
       "1185           R12         42.4029        2.15578     0.0022293   \n",
       "647             R4         75.0283        2.95092    0.00235101   \n",
       "\n",
       "     logI_fluctuation logI_max_over_std r_fftIcentroid   r_fftImax  \\\n",
       "191           3.59799           3.02239       0.107509  0.00185529   \n",
       "125           4.94637           3.04098       0.107607  0.00185529   \n",
       "817           4.96878           3.13777       0.107417  0.00185529   \n",
       "1185          5.55918           3.34202      0.0663934  0.00171821   \n",
       "647           51.0107           3.98897      0.0885655  0.00185529   \n",
       "\n",
       "     q_Icentroid q_logIcentroid   ...    I0_floor  G_gp rg_gp  D_gp I0_sphere  \\\n",
       "191    0.0653252      -0.239971   ...    0.240559  None  None  None   1454.74   \n",
       "125    0.0651664      -0.216147   ...    0.235522  None  None  None   1573.42   \n",
       "817     0.065241     -0.0914662   ...    0.276159  None  None  None   1969.04   \n",
       "1185    0.106922        1.26546   ...           0  None  None  None      None   \n",
       "647    0.0924768       -1.70073   ...           0  None  None  None      None   \n",
       "\n",
       "     r0_sphere sigma_sphere I_pkcenter q_pkcenter pk_hwhm  \n",
       "191    33.6663    0.0521611       None       None    None  \n",
       "125    33.7184    0.0453875       None       None    None  \n",
       "817     33.916    0.0413327       None       None    None  \n",
       "1185      None         None       None       None    None  \n",
       "647       None         None       None       None    None  \n",
       "\n",
       "[5 rows x 35 columns]"
      ]
     },
     "execution_count": 4,
     "metadata": {},
     "output_type": "execute_result"
    }
   ],
   "source": [
    "data.head()"
   ]
  },
  {
   "cell_type": "markdown",
   "metadata": {},
   "source": [
    "#### Step 2. Train Classifiers"
   ]
  },
  {
   "cell_type": "code",
   "execution_count": 5,
   "metadata": {},
   "outputs": [
    {
     "name": "stdout",
     "output_type": "stream",
     "text": [
      "Training took about 0.9615498185157776  minutes.\n"
     ]
    }
   ],
   "source": [
    "t0 = time()\n",
    "train_classifiers(data,  hyper_parameters_search = True)\n",
    "# scalers and models will be saved in 'saxskit/saxskit/modeling_data/scalers_and_models.yml'\n",
    "# accuracy will be saved in 'saxskit/saxskit/modeling_data/accuracy.txt'\n",
    "# We can use yaml_filename='file_name.yml' as additional parametrs to save scalers and models in it\n",
    "print(\"Training took about\", (time()-t0)/60, \" minutes.\")"
   ]
  },
  {
   "cell_type": "code",
   "execution_count": 7,
   "metadata": {},
   "outputs": [
    {
     "data": {
      "text/plain": [
       "\"{'unidentified': 0.98467737860489402, 'spherical_normal': 0.97380536424454611, 'guinier_porod': 0.81333902893165577, 'diffraction_peaks': 0.97396326849628756}\""
      ]
     },
     "execution_count": 7,
     "metadata": {},
     "output_type": "execute_result"
    }
   ],
   "source": [
    "with open(\"../saxskit/modeling_data/accuracy.txt\", \"r\") as g:\n",
    "    accuracy = g.readline()\n",
    "    \n",
    "accuracy"
   ]
  },
  {
   "cell_type": "markdown",
   "metadata": {},
   "source": [
    "Since often the data form the same experiment is highly correlated, \"Leave N Group Out\" technique is used to calculate accuracy. Data from two experiments is excluded from training and used as testing set. For example, if we have experiments 1,2,3,5,and 5:\n",
    "* train the model on 1,2 3; test on 4,5\n",
    "* train the model on 1,2,5; test on 3,4\n",
    "* try all combinations...\n",
    "* calculate average accuracy"
   ]
  },
  {
   "cell_type": "markdown",
   "metadata": {},
   "source": [
    "#### Step 3. Train Regression models"
   ]
  },
  {
   "cell_type": "code",
   "execution_count": 8,
   "metadata": {},
   "outputs": [
    {
     "name": "stdout",
     "output_type": "stream",
     "text": [
      "Training took about 16.191103851795198  minutes.\n"
     ]
    }
   ],
   "source": [
    "t0 = time()\n",
    "train_regressors(data,  hyper_parameters_search = True)\n",
    "# scalers and models will be saved in 'saxskit/saxskit/modeling_data/scalers_and_models_regression.yml'\n",
    "# accuracy will be saved in 'saxskit/saxskit/modeling_data/accuracy_regression.txt'\n",
    "# We can use yaml_filename='file_name.yml' as additional parametrs to save scalers and models in it\n",
    "print(\"Training took about\", (time()-t0)/60, \" minutes.\")"
   ]
  },
  {
   "cell_type": "code",
   "execution_count": 10,
   "metadata": {},
   "outputs": [
    {
     "data": {
      "text/plain": [
       "\"{'r0_sphere': 0.29207195697128335, 'sigma_sphere': 0.61194005642492144, 'rg_gp': 0.27678231141481924}\""
      ]
     },
     "execution_count": 10,
     "metadata": {},
     "output_type": "execute_result"
    }
   ],
   "source": [
    "with open(\"../saxskit/modeling_data/accuracy_regression.txt\", \"r\") as g:\n",
    "    accuracy = g.readline()\n",
    "    \n",
    "accuracy"
   ]
  },
  {
   "cell_type": "markdown",
   "metadata": {},
   "source": [
    "For the regression models, \"Leave N Group Out\" technique is also used. The accuracy is calculated as absolute mean error divided by standard derivation. "
   ]
  },
  {
   "cell_type": "code",
   "execution_count": null,
   "metadata": {
    "collapsed": true
   },
   "outputs": [],
   "source": []
  }
 ],
 "metadata": {
  "kernelspec": {
   "display_name": "Python 3",
   "language": "python",
   "name": "python3"
  },
  "language_info": {
   "codemirror_mode": {
    "name": "ipython",
    "version": 3
   },
   "file_extension": ".py",
   "mimetype": "text/x-python",
   "name": "python",
   "nbconvert_exporter": "python",
   "pygments_lexer": "ipython3",
   "version": "3.6.2"
  }
 },
 "nbformat": 4,
 "nbformat_minor": 2
}
