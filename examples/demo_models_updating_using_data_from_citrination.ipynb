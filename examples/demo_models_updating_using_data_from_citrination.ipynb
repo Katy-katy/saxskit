{
 "cells": [
  {
   "cell_type": "markdown",
   "metadata": {},
   "source": [
    "# Updating models using data from Citrination.\n",
    "\n",
    "To update the models using data from https://slac.citrination.com , **the user must have**:\n",
    "* access to SLAC Citrination account \n",
    "* apy_key\n",
    "\n",
    "Assume that we got a new dataset and now we want to update our models using new data. Since training \"from scratch\" took significant amount of time (specially, for regression models) we will use train_classifiers_partial() and train_regressors_partial()."
   ]
  },
  {
   "cell_type": "code",
   "execution_count": 1,
   "metadata": {},
   "outputs": [],
   "source": [
    "from citrination_client import CitrinationClient\n",
    "from saxskit.saxskit.saxs_models import get_data_from_Citrination\n",
    "from time import time\n",
    "\n",
    "import warnings\n",
    "warnings.filterwarnings(\"ignore\")\n",
    "\n",
    "from saxskit.saxskit.saxs_models import train_classifiers_partial, train_regressors_partial"
   ]
  },
  {
   "cell_type": "code",
   "execution_count": 2,
   "metadata": {},
   "outputs": [],
   "source": [
    "with open(\"citrination_api_key_ssrl.txt\", \"r\") as g:\n",
    "    api_key = g.readline()\n",
    "\n",
    "a_key = api_key.strip()\n",
    "\n",
    "cl = CitrinationClient(site='https://slac.citrination.com',api_key=a_key )"
   ]
  },
  {
   "cell_type": "markdown",
   "metadata": {},
   "source": [
    "SAXSKIT provides two options for training:\n",
    "* training from scratch\n",
    "* updating existing models using additional data\n",
    "\n",
    "\"training from scratch\" is useful for initial training or when we have a lot of new data (more than 30%). It is recommended to use \"hyper_parameters_search = True.\" \n",
    "\n",
    "Updating existing models is recommended when we have some new data (less than 30%). Updating existing models takes significant less time than \"training from scratch\""
   ]
  },
  {
   "cell_type": "markdown",
   "metadata": {},
   "source": [
    "#### Step 1. Get new data from Citrination"
   ]
  },
  {
   "cell_type": "code",
   "execution_count": 4,
   "metadata": {},
   "outputs": [],
   "source": [
    "new_data = get_data_from_Citrination(client = cl, dataset_id_list= [16]) # [16] is a list of datasets ids"
   ]
  },
  {
   "cell_type": "markdown",
   "metadata": {},
   "source": [
    "#### Step 2 (optional). Get all available data from Citrination\n",
    "\n",
    "If we want to update not just models, but also accuracy records, we need to specify the data we want to use to calculate the accuracy. It is recommended to use all available data, including the data that was used for initial training.   "
   ]
  },
  {
   "cell_type": "code",
   "execution_count": 3,
   "metadata": {},
   "outputs": [],
   "source": [
    "all_data = get_data_from_Citrination(client = cl, dataset_id_list= [1,15,16])"
   ]
  },
  {
   "cell_type": "markdown",
   "metadata": {},
   "source": [
    "#### Step 3. Update Classifiers"
   ]
  },
  {
   "cell_type": "code",
   "execution_count": 6,
   "metadata": {},
   "outputs": [
    {
     "name": "stdout",
     "output_type": "stream",
     "text": [
      "Updating took about 0.12016316254933675  minutes.\n"
     ]
    }
   ],
   "source": [
    "t0 = time()\n",
    "train_classifiers_partial(new_data, yaml_filename = None, all_training_data = all_data)\n",
    "print(\"Updating took about\", (time()-t0)/60, \" minutes.\")"
   ]
  },
  {
   "cell_type": "code",
   "execution_count": 7,
   "metadata": {},
   "outputs": [
    {
     "data": {
      "text/plain": [
       "\"{'diffraction_peaks': 0.98447795672704952, 'guinier_porod': 0.74100823366667412, 'spherical_normal': 0.9840544296725201, 'unidentified': 0.98859691602846556}\""
      ]
     },
     "execution_count": 7,
     "output_type": "execute_result",
     "metadata": {}
    }
   ],
   "source": [
    "with open(\"saxskit/saxskit/modeling_data/accuracy.txt\", \"r\") as g:\n",
    "    accuracy = g.readline()    \n",
    "accuracy"
   ]
  },
  {
   "cell_type": "markdown",
   "metadata": {},
   "source": [
    "#### Step 4. Update rergession models"
   ]
  },
  {
   "cell_type": "code",
   "execution_count": 8,
   "metadata": {},
   "outputs": [
    {
     "name": "stdout",
     "output_type": "stream",
     "text": [
      "Updating took about 0.683045748869578  minutes.\n"
     ]
    }
   ],
   "source": [
    "t0 = time()\n",
    "train_regressors_partial(new_data, yaml_filename = None, all_training_data = all_data)\n",
    "print(\"Updating took about\", (time()-t0)/60, \" minutes.\")"
   ]
  },
  {
   "cell_type": "code",
   "execution_count": 9,
   "metadata": {},
   "outputs": [
    {
     "data": {
      "text/plain": [
       "\"{'r0_sphere': 0.26510273493240721, 'rg_gp': 1.9332349538350049, 'sigma_sphere': 0.55638931402969005}\""
      ]
     },
     "execution_count": 9,
     "output_type": "execute_result",
     "metadata": {}
    }
   ],
   "source": [
    "with open(\"saxskit/saxskit/modeling_data/accuracy_regression.txt\", \"r\") as g:\n",
    "    accuracy = g.readline()    \n",
    "accuracy"
   ]
  },
  {
   "cell_type": "markdown",
   "metadata": {},
   "source": [
    "#### Step 5. Compare accuracy and re-train models if it is needed.\n",
    "\n",
    "If new accuracy is worth than accuracy we had before updating, it is recommended to retrain the models from scratch using all available data:"
   ]
  },
  {
   "cell_type": "code",
   "execution_count": 4,
   "metadata": {},
   "outputs": [],
   "source": [
    "from saxskit.saxskit.saxs_models import train_classifiers, train_regressors\n",
    "\n",
    "train_classifiers(all_data,  hyper_parameters_search = True)"
   ]
  },
  {
   "cell_type": "code",
   "execution_count": 5,
   "metadata": {},
   "outputs": [
    {
     "data": {
      "text/plain": [
       "\"{'unidentified': 0.98662964095680705, 'spherical_normal': 0.98921031716337415, 'guinier_porod': 0.8234882586415645, 'diffraction_peaks': 0.97733857620106368}\""
      ]
     },
     "execution_count": 5,
     "output_type": "execute_result",
     "metadata": {}
    }
   ],
   "source": [
    "with open(\"saxskit/saxskit/modeling_data/accuracy.txt\", \"r\") as g:\n",
    "    accuracy = g.readline()    \n",
    "accuracy"
   ]
  },
  {
   "cell_type": "code",
   "execution_count": 6,
   "metadata": {},
   "outputs": [],
   "source": [
    "train_regressors(all_data,  hyper_parameters_search = True)"
   ]
  },
  {
   "cell_type": "code",
   "execution_count": 7,
   "metadata": {},
   "outputs": [
    {
     "data": {
      "text/plain": [
       "\"{'r0_sphere': 0.14301895118612798, 'sigma_sphere': 0.6480025842788546, 'rg_gp': 0.23343661949244066}\""
      ]
     },
     "execution_count": 7,
     "output_type": "execute_result",
     "metadata": {}
    }
   ],
   "source": [
    "with open(\"saxskit/saxskit/modeling_data/accuracy_regression.txt\", \"r\") as g:\n",
    "    accuracy = g.readline()    \n",
    "accuracy"
   ]
  }
 ],
 "metadata": {
  "kernelspec": {
   "display_name": "Python 3",
   "language": "python",
   "name": "python3"
  },
  "language_info": {
   "codemirror_mode": {
    "name": "ipython",
    "version": 3.0
   },
   "file_extension": ".py",
   "mimetype": "text/x-python",
   "name": "python",
   "nbconvert_exporter": "python",
   "pygments_lexer": "ipython3",
   "version": "3.6.2"
  }
 },
 "nbformat": 4,
 "nbformat_minor": 2
}