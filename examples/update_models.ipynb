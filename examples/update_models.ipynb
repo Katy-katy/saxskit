{
 "cells": [
  {
   "cell_type": "code",
   "execution_count": 1,
   "metadata": {
    "collapsed": true
   },
   "outputs": [],
   "source": [
    "import warnings\n",
    "warnings.filterwarnings(\"ignore\")\n",
    "from time import time\n",
    "import yaml"
   ]
  },
  {
   "cell_type": "code",
   "execution_count": 2,
   "metadata": {
    "collapsed": true
   },
   "outputs": [],
   "source": [
    "from citrination_client import CitrinationClient\n",
    "from saxskit.saxs_models import get_data_from_Citrination\n",
    "\n",
    "from saxskit.saxs_models import train_classifiers_partial, train_regressors_partial"
   ]
  },
  {
   "cell_type": "markdown",
   "metadata": {},
   "source": [
    "## Updating models using data from Citrination\n",
    "\n",
    "Assume that we got a new dataset and now we want to update our models using new data. Since training \"from scratch\" took a significant amount of time (specially for the regression models) we will use train_classifiers_partial() and train_regressors_partial() to update the models with the new data."
   ]
  },
  {
   "cell_type": "markdown",
   "metadata": {},
   "source": [
    "#### Step 1 (Optional): Load the current set of models"
   ]
  },
  {
   "cell_type": "code",
   "execution_count": 28,
   "metadata": {
    "collapsed": true
   },
   "outputs": [],
   "source": [
    "s_and_m_file = open( \"../saxskit/modeling_data/scalers_and_models.yml\",'rb')\n",
    "s_and_m = yaml.load(s_and_m_file)"
   ]
  },
  {
   "cell_type": "code",
   "execution_count": 36,
   "metadata": {
    "collapsed": true
   },
   "outputs": [],
   "source": [
    "s_and_m_file_regression = open( \"../saxskit/modeling_data/scalers_and_models_regression.yml\",'rb')\n",
    "s_and_m_regresson = yaml.load(s_and_m_file_regression)"
   ]
  },
  {
   "cell_type": "markdown",
   "metadata": {},
   "source": [
    "#### Accuracy before updating:"
   ]
  },
  {
   "cell_type": "code",
   "execution_count": 30,
   "metadata": {},
   "outputs": [
    {
     "name": "stdout",
     "output_type": "stream",
     "text": [
      "-----trained model: accuracies for classification models-----\n",
      "unidentified: 0.9861\n",
      "spherical_normal: 0.9913\n",
      "guinier_porod: 0.8253\n",
      "diffraction_peaks: 0.9663\n"
     ]
    }
   ],
   "source": [
    "with open(\"../saxskit/modeling_data/accuracy.txt\", \"r\") as g:\n",
    "    accuracy = eval(g.readline())    \n",
    "print('-----trained model: accuracies for classification models-----')\n",
    "for model_name, acc in accuracy.items():\n",
    "    print('{}: {:.4f}'.format(model_name,acc))"
   ]
  },
  {
   "cell_type": "code",
   "execution_count": 37,
   "metadata": {},
   "outputs": [
    {
     "name": "stdout",
     "output_type": "stream",
     "text": [
      "-----trained model: accuracies for rergession models-----\n",
      "r0_sphere: 0.1431\n",
      "sigma_sphere: 0.6480\n",
      "rg_gp: 0.2306\n"
     ]
    }
   ],
   "source": [
    "with open(\"../saxskit/modeling_data/accuracy_regression.txt\", \"r\") as g:\n",
    "    accuracy_reg = eval(g.readline())    \n",
    "print('-----trained model: accuracies for rergession models-----')\n",
    "for model_name, acc in accuracy_reg.items():\n",
    "    print('{}: {:.4f}'.format(model_name,acc))"
   ]
  },
  {
   "cell_type": "markdown",
   "metadata": {},
   "source": [
    "#### Step 2. Get data from Citrination using Citrination credentials"
   ]
  },
  {
   "cell_type": "code",
   "execution_count": 22,
   "metadata": {
    "collapsed": true
   },
   "outputs": [],
   "source": [
    "with open(\"../../api_key.txt\", \"r\") as g:\n",
    "    a_key = g.readline().strip()\n",
    "cl = CitrinationClient(site='https://slac.citrination.com',api_key=a_key)\n",
    "\n",
    "new_data = get_data_from_Citrination(client = cl, dataset_id_list= [16]) # [16] is a list of datasets ids"
   ]
  },
  {
   "cell_type": "markdown",
   "metadata": {},
   "source": [
    "#### Step 3 (optional). Get all available data from Citrination\n",
    "\n",
    "If we want to know the accuracy of the updated models, it is recommended to calculate it against the full training set. "
   ]
  },
  {
   "cell_type": "code",
   "execution_count": 23,
   "metadata": {
    "collapsed": true
   },
   "outputs": [],
   "source": [
    "all_data = get_data_from_Citrination(client = cl, dataset_id_list= [1,15,16])"
   ]
  },
  {
   "cell_type": "markdown",
   "metadata": {},
   "source": [
    "#### Step 4. Update Classifiers"
   ]
  },
  {
   "cell_type": "code",
   "execution_count": 32,
   "metadata": {},
   "outputs": [
    {
     "name": "stdout",
     "output_type": "stream",
     "text": [
      "Model updates took 0.11 minutes\n"
     ]
    }
   ],
   "source": [
    "t0 = time()\n",
    "train_classifiers_partial(new_data, yaml_filename = None, all_training_data = all_data)\n",
    "print(\"Model updates took {:.2f} minutes\".format((time()-t0)/60))"
   ]
  },
  {
   "cell_type": "markdown",
   "metadata": {},
   "source": [
    "#### Accuracy after updating:"
   ]
  },
  {
   "cell_type": "code",
   "execution_count": 33,
   "metadata": {},
   "outputs": [
    {
     "name": "stdout",
     "output_type": "stream",
     "text": [
      "diffraction_peaks: 0.9839\n",
      "guinier_porod: 0.7874\n",
      "spherical_normal: 0.9925\n",
      "unidentified: 0.9870\n"
     ]
    }
   ],
   "source": [
    "with open(\"../saxskit/modeling_data/accuracy.txt\", \"r\") as g:\n",
    "    accuracy = eval(g.readline())\n",
    "for model_name, acc in accuracy.items():\n",
    "    print('{}: {:.4f}'.format(model_name,acc))"
   ]
  },
  {
   "cell_type": "markdown",
   "metadata": {},
   "source": [
    "#### Step 5. Update regression models"
   ]
  },
  {
   "cell_type": "code",
   "execution_count": 38,
   "metadata": {},
   "outputs": [
    {
     "name": "stdout",
     "output_type": "stream",
     "text": [
      "Model updates took 0.69 minutes\n"
     ]
    }
   ],
   "source": [
    "t0 = time()\n",
    "train_regressors_partial(new_data, yaml_filename = None, all_training_data = all_data)\n",
    "print(\"Model updates took {:.2f} minutes\".format((time()-t0)/60))"
   ]
  },
  {
   "cell_type": "markdown",
   "metadata": {},
   "source": [
    "#### Accuracy after updating:"
   ]
  },
  {
   "cell_type": "code",
   "execution_count": 39,
   "metadata": {},
   "outputs": [
    {
     "name": "stdout",
     "output_type": "stream",
     "text": [
      "r0_sphere: 8059346029.5767\n",
      "rg_gp: 0.3215\n",
      "sigma_sphere: 0.5780\n"
     ]
    }
   ],
   "source": [
    "with open(\"../saxskit/modeling_data/accuracy_regression.txt\", \"r\") as g:\n",
    "    accuracy = eval(g.readline())\n",
    "for model_name, acc in accuracy.items():\n",
    "    print('{}: {:.4f}'.format(model_name,acc))"
   ]
  },
  {
   "cell_type": "markdown",
   "metadata": {},
   "source": [
    "#### Step 6. Compare accuracy and restore previous models if needed\n",
    "\n",
    "If the new accuracy is worse than the accuracy before the update, the models from before the update can be restored."
   ]
  },
  {
   "cell_type": "code",
   "execution_count": 13,
   "metadata": {
    "collapsed": true
   },
   "outputs": [],
   "source": [
    "with open('../saxskit/modeling_data/scalers_and_models.yml', 'w') as yaml_file:\n",
    "    yaml.dump(s_and_m, yaml_file)\n",
    "    \n",
    "with open('../saxskit/modeling_data/scalers_and_models_regression.yml', 'w') as yaml_file:\n",
    "    yaml.dump(s_and_m_regresson, yaml_file)        "
   ]
  },
  {
   "cell_type": "code",
   "execution_count": 14,
   "metadata": {
    "collapsed": true
   },
   "outputs": [],
   "source": [
    "with open ('../saxskit/modeling_data/accuracy.txt', 'w') as txt_file:\n",
    "    txt_file.write(str(accuracy))\n",
    "    \n",
    "with open ('../saxskit/modeling_data/scalers_and_models_regression.yml', 'w') as txt_file:\n",
    "    txt_file.write(str(accuracy_reg))"
   ]
  },
  {
   "cell_type": "code",
   "execution_count": 15,
   "metadata": {},
   "outputs": [
    {
     "name": "stdout",
     "output_type": "stream",
     "text": [
      "-----trained model: accuracies for classification models-----\n",
      "r0_sphere: 0.2658\n",
      "rg_gp: 0.6377\n",
      "sigma_sphere: 0.5590\n"
     ]
    }
   ],
   "source": [
    "with open(\"../saxskit/modeling_data/accuracy.txt\", \"r\") as g:\n",
    "    accuracy = eval(g.readline())    \n",
    "print('-----trained model: accuracies for classification models-----')\n",
    "for model_name, acc in accuracy.items():\n",
    "    print('{}: {:.4f}'.format(model_name,acc))"
   ]
  },
  {
   "cell_type": "code",
   "execution_count": 17,
   "metadata": {},
   "outputs": [
    {
     "data": {
      "text/plain": [
       "{'r0_sphere': 0.29217359855279595,\n",
       " 'rg_gp': 0.2768065209314346,\n",
       " 'sigma_sphere': 0.6123823239209741}"
      ]
     },
     "execution_count": 17,
     "metadata": {},
     "output_type": "execute_result"
    }
   ],
   "source": [
    "accuracy_reg"
   ]
  },
  {
   "cell_type": "code",
   "execution_count": null,
   "metadata": {
    "collapsed": true
   },
   "outputs": [],
   "source": []
  }
 ],
 "metadata": {
  "kernelspec": {
   "display_name": "Python 3",
   "language": "python",
   "name": "python3"
  },
  "language_info": {
   "codemirror_mode": {
    "name": "ipython",
    "version": 3
   },
   "file_extension": ".py",
   "mimetype": "text/x-python",
   "name": "python",
   "nbconvert_exporter": "python",
   "pygments_lexer": "ipython3",
   "version": "3.6.2"
  }
 },
 "nbformat": 4,
 "nbformat_minor": 2
}
