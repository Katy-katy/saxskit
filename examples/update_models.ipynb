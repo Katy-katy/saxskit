{
 "cells": [
  {
   "cell_type": "code",
   "execution_count": 1,
   "metadata": {
    "collapsed": true
   },
   "outputs": [],
   "source": [
    "import warnings\n",
    "warnings.filterwarnings(\"ignore\")\n",
    "from time import time\n",
    "import yaml"
   ]
  },
  {
   "cell_type": "code",
   "execution_count": 2,
   "metadata": {
    "collapsed": true
   },
   "outputs": [],
   "source": [
    "from citrination_client import CitrinationClient\n",
    "from saxskit.saxs_models import get_data_from_Citrination\n",
    "\n",
    "from saxskit.saxs_models import train_classifiers_partial, train_regressors_partial"
   ]
  },
  {
   "cell_type": "markdown",
   "metadata": {},
   "source": [
    "## Updating models using data from Citrination\n",
    "\n",
    "Assume that we got a new dataset and now we want to update our models using new data. Since training \"from scratch\" took a significant amount of time (specially for the regression models) we will use train_classifiers_partial() and train_regressors_partial() to update the models with the new data."
   ]
  },
  {
   "cell_type": "markdown",
   "metadata": {},
   "source": [
    "#### Step 1 (Optional): Load the current set of models"
   ]
  },
  {
   "cell_type": "code",
   "execution_count": 3,
   "metadata": {
    "collapsed": true
   },
   "outputs": [],
   "source": [
    "s_and_m_file = open( \"../saxskit/modeling_data/scalers_and_models.yml\",'rb')\n",
    "s_and_m = yaml.load(s_and_m_file)"
   ]
  },
  {
   "cell_type": "code",
   "execution_count": 4,
   "metadata": {
    "collapsed": true
   },
   "outputs": [],
   "source": [
    "s_and_m_file_regression = open( \"../saxskit/modeling_data/scalers_and_models_regression.yml\",'rb')\n",
    "s_and_m_regresson = yaml.load(s_and_m_file_regression)"
   ]
  },
  {
   "cell_type": "markdown",
   "metadata": {},
   "source": [
    "#### Accuracy before updating:"
   ]
  },
  {
   "cell_type": "code",
   "execution_count": 5,
   "metadata": {},
   "outputs": [
    {
     "name": "stdout",
     "output_type": "stream",
     "text": [
      "-----trained model: accuracies for classification models-----\n",
      "unidentified: 0.9856\n",
      "spherical_normal: 0.9695\n",
      "guinier_porod: 0.8384\n",
      "diffraction_peaks: 0.9725\n"
     ]
    }
   ],
   "source": [
    "with open(\"../saxskit/modeling_data/accuracy.txt\", \"r\") as g:\n",
    "    accuracy = eval(g.readline())    \n",
    "print('-----trained model: accuracies for classification models-----')\n",
    "for model_name, acc in accuracy.items():\n",
    "    print('{}: {:.4f}'.format(model_name,acc))"
   ]
  },
  {
   "cell_type": "code",
   "execution_count": 6,
   "metadata": {},
   "outputs": [
    {
     "name": "stdout",
     "output_type": "stream",
     "text": [
      "-----trained model: accuracies for rergession models-----\n",
      "r0_sphere: 0.2920\n",
      "sigma_sphere: 0.6117\n",
      "rg_gp: 0.2768\n"
     ]
    }
   ],
   "source": [
    "with open(\"../saxskit/modeling_data/accuracy_regression.txt\", \"r\") as g:\n",
    "    accuracy_reg = eval(g.readline())    \n",
    "print('-----trained model: accuracies for rergession models-----')\n",
    "for model_name, acc in accuracy_reg.items():\n",
    "    print('{}: {:.4f}'.format(model_name,acc))"
   ]
  },
  {
   "cell_type": "markdown",
   "metadata": {},
   "source": [
    "#### Step 2. Get data from Citrination using Citrination credentials"
   ]
  },
  {
   "cell_type": "code",
   "execution_count": 7,
   "metadata": {
    "collapsed": true
   },
   "outputs": [],
   "source": [
    "with open(\"../../api_key.txt\", \"r\") as g:\n",
    "    a_key = g.readline().strip()\n",
    "cl = CitrinationClient(site='https://slac.citrination.com',api_key=a_key)\n",
    "\n",
    "new_data = get_data_from_Citrination(client = cl, dataset_id_list= [16]) # [16] is a list of datasets ids"
   ]
  },
  {
   "cell_type": "markdown",
   "metadata": {},
   "source": [
    "#### Step 3 (optional). Get all available data from Citrination\n",
    "\n",
    "If we want to know the accuracy of the updated models, it is recommended to calculate it against the full training set. "
   ]
  },
  {
   "cell_type": "code",
   "execution_count": 8,
   "metadata": {
    "collapsed": true
   },
   "outputs": [],
   "source": [
    "all_data = get_data_from_Citrination(client = cl, dataset_id_list= [1,15,16])"
   ]
  },
  {
   "cell_type": "markdown",
   "metadata": {},
   "source": [
    "#### Step 4. Update Classifiers"
   ]
  },
  {
   "cell_type": "code",
   "execution_count": 9,
   "metadata": {},
   "outputs": [
    {
     "name": "stdout",
     "output_type": "stream",
     "text": [
      "Model updates took 0.10 minutes\n"
     ]
    }
   ],
   "source": [
    "t0 = time()\n",
    "train_classifiers_partial(new_data, yaml_filename = None, all_training_data = all_data)\n",
    "print(\"Model updates took {:.2f} minutes\".format((time()-t0)/60))"
   ]
  },
  {
   "cell_type": "markdown",
   "metadata": {},
   "source": [
    "#### Accuracy after updating:"
   ]
  },
  {
   "cell_type": "code",
   "execution_count": 10,
   "metadata": {},
   "outputs": [
    {
     "name": "stdout",
     "output_type": "stream",
     "text": [
      "diffraction_peaks: 0.9831\n",
      "guinier_porod: 0.7456\n",
      "spherical_normal: 0.9857\n",
      "unidentified: 0.9887\n"
     ]
    }
   ],
   "source": [
    "with open(\"../saxskit/modeling_data/accuracy.txt\", \"r\") as g:\n",
    "    new_accuracy = eval(g.readline())\n",
    "for model_name, acc in new_accuracy.items():\n",
    "    print('{}: {:.4f}'.format(model_name,acc))"
   ]
  },
  {
   "cell_type": "markdown",
   "metadata": {},
   "source": [
    "#### Step 5. Update regression models"
   ]
  },
  {
   "cell_type": "code",
   "execution_count": 11,
   "metadata": {},
   "outputs": [
    {
     "name": "stdout",
     "output_type": "stream",
     "text": [
      "Model updates took 0.62 minutes\n"
     ]
    }
   ],
   "source": [
    "t0 = time()\n",
    "train_regressors_partial(new_data, yaml_filename = None, all_training_data = all_data)\n",
    "print(\"Model updates took {:.2f} minutes\".format((time()-t0)/60))"
   ]
  },
  {
   "cell_type": "markdown",
   "metadata": {},
   "source": [
    "#### Accuracy after updating:"
   ]
  },
  {
   "cell_type": "code",
   "execution_count": 12,
   "metadata": {},
   "outputs": [
    {
     "name": "stdout",
     "output_type": "stream",
     "text": [
      "r0_sphere: 0.2661\n",
      "rg_gp: 0.7303\n",
      "sigma_sphere: 0.5561\n"
     ]
    }
   ],
   "source": [
    "with open(\"../saxskit/modeling_data/accuracy_regression.txt\", \"r\") as g:\n",
    "    new_accuracy_reg = eval(g.readline())\n",
    "for model_name, acc in new_accuracy_reg.items():\n",
    "    print('{}: {:.4f}'.format(model_name,acc))"
   ]
  },
  {
   "cell_type": "markdown",
   "metadata": {},
   "source": [
    "#### Step 6. Compare accuracy and restore previous models if needed\n",
    "\n",
    "If the new accuracy is worse than the accuracy before the update, the models from before the update can be restored."
   ]
  },
  {
   "cell_type": "code",
   "execution_count": 13,
   "metadata": {
    "collapsed": true
   },
   "outputs": [],
   "source": [
    "with open('../saxskit/modeling_data/scalers_and_models.yml', 'w') as yaml_file:\n",
    "    yaml.dump(s_and_m, yaml_file)\n",
    "    \n",
    "with open('../saxskit/modeling_data/scalers_and_models_regression.yml', 'w') as yaml_file:\n",
    "    yaml.dump(s_and_m_regresson, yaml_file)        "
   ]
  },
  {
   "cell_type": "code",
   "execution_count": 14,
   "metadata": {
    "collapsed": true
   },
   "outputs": [],
   "source": [
    "with open ('../saxskit/modeling_data/accuracy.txt', 'w') as txt_file:\n",
    "    txt_file.write(str(accuracy))"
   ]
  },
  {
   "cell_type": "code",
   "execution_count": 15,
   "metadata": {
    "collapsed": true
   },
   "outputs": [],
   "source": [
    "with open ('../saxskit/modeling_data/accuracy_regression.txt', 'w') as txt_file:\n",
    "    txt_file.write(str(accuracy_reg))"
   ]
  }
 ],
 "metadata": {
  "kernelspec": {
   "display_name": "Python 3",
   "language": "python",
   "name": "python3"
  },
  "language_info": {
   "codemirror_mode": {
    "name": "ipython",
    "version": 3
   },
   "file_extension": ".py",
   "mimetype": "text/x-python",
   "name": "python",
   "nbconvert_exporter": "python",
   "pygments_lexer": "ipython3",
   "version": "3.6.2"
  }
 },
 "nbformat": 4,
 "nbformat_minor": 2
}
