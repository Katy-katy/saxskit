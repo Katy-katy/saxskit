{
 "cells": [
  {
   "cell_type": "code",
   "execution_count": 1,
   "metadata": {},
   "outputs": [],
   "source": [
    "import warnings\n",
    "warnings.filterwarnings(\"ignore\")\n",
    "\n",
    "import pandas as pd\n",
    "import numpy as np\n",
    "from matplotlib import pyplot as plt"
   ]
  },
  {
   "cell_type": "code",
   "execution_count": 2,
   "metadata": {},
   "outputs": [],
   "source": [
    "from saxskit import saxs_math, saxs_fit\n",
    "from saxskit.saxs_classify import SaxsClassifier\n",
    "from saxskit.saxs_regression import SaxsRegressor"
   ]
  },
  {
   "cell_type": "markdown",
   "metadata": {},
   "source": [
    "## Predict populations and scattering parameters from measured data"
   ]
  },
  {
   "cell_type": "markdown",
   "metadata": {},
   "source": [
    "#### Step 1. Read q (1/A) and Intensity from csv file"
   ]
  },
  {
   "cell_type": "code",
   "execution_count": 3,
   "metadata": {},
   "outputs": [],
   "source": [
    "q_I = np.genfromtxt ('sample_0.csv', delimiter=\",\")"
   ]
  },
  {
   "cell_type": "markdown",
   "metadata": {},
   "source": [
    "#### Step 2. Examine the spectrum"
   ]
  },
  {
   "cell_type": "code",
   "execution_count": 4,
   "metadata": {},
   "outputs": [
    {
     "data": {
      "image/png": "[encoded data removed]",
      "text/plain": [
       "<matplotlib.figure.Figure at 0x7fe5877d9358>"
      ]
     },
     "metadata": {},
     "output_type": "display_data"
    }
   ],
   "source": [
    "plt.semilogy(q_I[:,0],q_I[:,1],'-k')\n",
    "plt.show()"
   ]
  },
  {
   "cell_type": "markdown",
   "metadata": {},
   "source": [
    "#### Step 3. Calculate numerical features (profile) of the spectrum"
   ]
  },
  {
   "cell_type": "code",
   "execution_count": 5,
   "metadata": {},
   "outputs": [
    {
     "data": {
      "text/plain": [
       "OrderedDict([('Imax_over_Imean', 13.181053776872366),\n",
       "             ('Imax_sharpness', 1.0200591262893703),\n",
       "             ('I_fluctuation', 0.001038996426310348),\n",
       "             ('logI_fluctuation', 5.943073057197209),\n",
       "             ('logI_max_over_std', 3.2213864774189336),\n",
       "             ('r_fftIcentroid', 0.10056978331899331),\n",
       "             ('r_fftImax', 0.0017857142857142857),\n",
       "             ('q_Icentroid', 0.07198204747458697),\n",
       "             ('q_logIcentroid', 0.13005159629922175),\n",
       "             ('pearson_q', -0.5599102444780059),\n",
       "             ('pearson_q2', -0.4197884860266609),\n",
       "             ('pearson_expq', -0.5188467663495657),\n",
       "             ('pearson_invexpq', 0.6012800462298686)])"
      ]
     },
     "execution_count": 5,
     "metadata": {},
     "output_type": "execute_result"
    }
   ],
   "source": [
    "features = saxs_math.profile_spectrum(q_I)\n",
    "features"
   ]
  },
  {
   "cell_type": "markdown",
   "metadata": {},
   "source": [
    "#### Step 4. Predict scatterer populations"
   ]
  },
  {
   "cell_type": "code",
   "execution_count": 6,
   "metadata": {},
   "outputs": [
    {
     "data": {
      "text/plain": [
       "OrderedDict([('unidentified', 0),\n",
       "             ('guinier_porod', 0),\n",
       "             ('spherical_normal', 1),\n",
       "             ('diffraction_peaks', 0)])"
      ]
     },
     "execution_count": 6,
     "metadata": {},
     "output_type": "execute_result"
    }
   ],
   "source": [
    "saxs_cls = SaxsClassifier()\n",
    "\n",
    "populations, certainties = saxs_cls.classify(features)\n",
    "populations"
   ]
  },
  {
   "cell_type": "code",
   "execution_count": 7,
   "metadata": {},
   "outputs": [
    {
     "data": {
      "text/plain": [
       "OrderedDict([('unidentified', 0.9843478393309336),\n",
       "             ('guinier_porod', 0.7715530051738791),\n",
       "             ('spherical_normal', 0.9950754648390004),\n",
       "             ('diffraction_peaks', 0.9963691434061338)])"
      ]
     },
     "execution_count": 7,
     "metadata": {},
     "output_type": "execute_result"
    }
   ],
   "source": [
    "certainties"
   ]
  },
  {
   "cell_type": "markdown",
   "metadata": {},
   "source": [
    "The saxskit models predict that the data are identifiable and that the scatterers include one population of a normal size distribution of spherical scatterers. The models predict no diffraction peaks with a high certainty, and no Guinier-Porod like terms with a less-high certainty."
   ]
  },
  {
   "cell_type": "markdown",
   "metadata": {},
   "source": [
    "#### Step 5. Predict scattering parameters"
   ]
  },
  {
   "cell_type": "code",
   "execution_count": 8,
   "metadata": {},
   "outputs": [
    {
     "data": {
      "text/plain": [
       "OrderedDict([('r0_sphere', [26.770631802929802]),\n",
       "             ('sigma_sphere', [0.04835286692702404])])"
      ]
     },
     "execution_count": 8,
     "metadata": {},
     "output_type": "execute_result"
    }
   ],
   "source": [
    "saxs_reg = SaxsRegressor()\n",
    "\n",
    "params = saxs_reg.predict_params(populations,features,q_I)\n",
    "params"
   ]
  },
  {
   "cell_type": "markdown",
   "metadata": {},
   "source": [
    "The saxskit models predict the mean sphere size (in Angstroms) and the standard deviation (fractional), assuming a normal size distribution. "
   ]
  },
  {
   "cell_type": "markdown",
   "metadata": {},
   "source": [
    "Parameters related to intensity (the intensities of the noise floor and spherical scattering) are now computed by constrained least-squares fitting:"
   ]
  },
  {
   "cell_type": "code",
   "execution_count": 9,
   "metadata": {},
   "outputs": [
    {
     "data": {
      "text/plain": [
       "OrderedDict([('I0_floor', [0.6178472431858584]),\n",
       "             ('I0_sphere', [2427.586618732092]),\n",
       "             ('r0_sphere', [26.770631802929802]),\n",
       "             ('sigma_sphere', [0.04835286692702404])])"
      ]
     },
     "execution_count": 9,
     "metadata": {},
     "output_type": "execute_result"
    }
   ],
   "source": [
    "sxf = saxs_fit.SaxsFitter(q_I,populations)\n",
    "params, report = sxf.fit_intensity_params(params)\n",
    "params"
   ]
  },
  {
   "cell_type": "markdown",
   "metadata": {},
   "source": [
    "#### Step 6. See how predicted parameters reproduce measured spectrum"
   ]
  },
  {
   "cell_type": "code",
   "execution_count": 10,
   "metadata": {},
   "outputs": [
    {
     "data": {
      "image/png": "[encoded data removed]",
      "text/plain": [
       "<matplotlib.figure.Figure at 0x7fe585644438>"
      ]
     },
     "metadata": {},
     "output_type": "display_data"
    }
   ],
   "source": [
    "I_estimate = saxs_math.compute_saxs(q_I[:,0],populations,params)\n",
    "plt.semilogy(q_I[:,0],q_I[:,1],'-k')\n",
    "plt.semilogy(q_I[:,0],I_estimate,'-r')\n",
    "plt.legend(['measured','estimated'])\n",
    "plt.show()"
   ]
  },
  {
   "cell_type": "markdown",
   "metadata": {},
   "source": [
    "#### Step 7. Refine the parameters by least-squares fitting the spectrum"
   ]
  },
  {
   "cell_type": "code",
   "execution_count": 11,
   "metadata": {},
   "outputs": [
    {
     "data": {
      "text/plain": [
       "OrderedDict([('I0_floor', [0.5387307876412822]),\n",
       "             ('I0_sphere', [2898.2015834464646]),\n",
       "             ('r0_sphere', [27.69223625995154]),\n",
       "             ('sigma_sphere', [0.0848985716985228])])"
      ]
     },
     "execution_count": 11,
     "metadata": {},
     "output_type": "execute_result"
    }
   ],
   "source": [
    "params_opt, rpt = sxf.fit(params)\n",
    "params_opt"
   ]
  },
  {
   "cell_type": "code",
   "execution_count": 12,
   "metadata": {},
   "outputs": [
    {
     "data": {
      "image/png": "[encoded data removed]",
      "text/plain": [
       "<matplotlib.figure.Figure at 0x7fe58558a7b8>"
      ]
     },
     "metadata": {},
     "output_type": "display_data"
    }
   ],
   "source": [
    "I_opt = saxs_math.compute_saxs(q_I[:,0],populations,params_opt)\n",
    "plt.semilogy(q_I[:,0],q_I[:,1],'-k')\n",
    "plt.semilogy(q_I[:,0],I_estimate,'-r')\n",
    "plt.semilogy(q_I[:,0],I_opt,'-g')\n",
    "plt.legend(['measured','estimated (ML)','fit (least-squares)'])\n",
    "plt.show()"
   ]
  },
  {
   "cell_type": "code",
   "execution_count": null,
   "metadata": {},
   "outputs": [],
   "source": []
  }
 ],
 "metadata": {
  "kernelspec": {
   "display_name": "Python 3",
   "language": "python",
   "name": "python3"
  },
  "language_info": {
   "codemirror_mode": {
    "name": "ipython",
    "version": 3
   },
   "file_extension": ".py",
   "mimetype": "text/x-python",
   "name": "python",
   "nbconvert_exporter": "python",
   "pygments_lexer": "ipython3",
   "version": "3.5.2"
  }
 },
 "nbformat": 4,
 "nbformat_minor": 2
}
