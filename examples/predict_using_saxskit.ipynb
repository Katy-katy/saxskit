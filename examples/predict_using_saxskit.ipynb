{
 "cells": [
  {
   "cell_type": "code",
   "execution_count": 1,
   "metadata": {},
   "outputs": [],
   "source": [
    "import warnings\n",
    "warnings.filterwarnings(\"ignore\")\n",
    "\n",
    "import pandas as pd\n",
    "import numpy as np\n",
    "from matplotlib import pyplot as plt"
   ]
  },
  {
   "cell_type": "code",
   "execution_count": 2,
   "metadata": {},
   "outputs": [],
   "source": [
    "import saxskit\n",
    "from saxskit.saxs_classify import SaxsClassifier\n",
    "from saxskit.saxs_regression import SaxsRegressor\n",
    "from saxskit.saxs_math import profile_spectrum"
   ]
  },
  {
   "cell_type": "markdown",
   "metadata": {},
   "source": [
    "## Predict populations and scattering parameters from measured data"
   ]
  },
  {
   "cell_type": "markdown",
   "metadata": {},
   "source": [
    "#### Step 1. Read q (1/A) and Intensity from csv file"
   ]
  },
  {
   "cell_type": "code",
   "execution_count": 3,
   "metadata": {},
   "outputs": [],
   "source": [
    "q_I = np.genfromtxt ('sample_0.csv', delimiter=\",\")"
   ]
  },
  {
   "cell_type": "markdown",
   "metadata": {},
   "source": [
    "#### Step 2. Examine the spectrum"
   ]
  },
  {
   "cell_type": "code",
   "execution_count": 4,
   "metadata": {},
   "outputs": [
    {
     "data": {
      "image/png": "[encoded data removed]",
      "text/plain": [
       "<matplotlib.figure.Figure at 0x7f73eed11208>"
      ]
     },
     "metadata": {},
     "output_type": "display_data"
    }
   ],
   "source": [
    "plt.semilogy(q_I[:,0],q_I[:,1],'-k')\n",
    "plt.show()"
   ]
  },
  {
   "cell_type": "markdown",
   "metadata": {},
   "source": [
    "#### Step 3. Calculate numerical features (profile) of the spectrum"
   ]
  },
  {
   "cell_type": "code",
   "execution_count": 5,
   "metadata": {},
   "outputs": [
    {
     "data": {
      "text/plain": [
       "OrderedDict([('Imax_over_Imean', 13.181053776872366),\n",
       "             ('Imax_sharpness', 1.0200591262893703),\n",
       "             ('I_fluctuation', 0.001038996426310348),\n",
       "             ('logI_fluctuation', 5.943073057197209),\n",
       "             ('logI_max_over_std', 3.2213864774189336),\n",
       "             ('r_fftIcentroid', 0.10056978331899331),\n",
       "             ('r_fftImax', 0.0017857142857142857),\n",
       "             ('q_Icentroid', 0.07198204747458697),\n",
       "             ('q_logIcentroid', 0.13005159629922175),\n",
       "             ('pearson_q', -0.5599102444780059),\n",
       "             ('pearson_q2', -0.4197884860266609),\n",
       "             ('pearson_expq', -0.5188467663495657),\n",
       "             ('pearson_invexpq', 0.6012800462298686)])"
      ]
     },
     "execution_count": 5,
     "metadata": {},
     "output_type": "execute_result"
    }
   ],
   "source": [
    "features = profile_spectrum(q_I)\n",
    "features"
   ]
  },
  {
   "cell_type": "markdown",
   "metadata": {},
   "source": [
    "#### Step 4. Predict scatterer populations"
   ]
  },
  {
   "cell_type": "code",
   "execution_count": 6,
   "metadata": {},
   "outputs": [
    {
     "data": {
      "text/plain": [
       "OrderedDict([('unidentified', 0),\n",
       "             ('guinier_porod', 0),\n",
       "             ('spherical_normal', 1),\n",
       "             ('diffraction_peaks', 0)])"
      ]
     },
     "execution_count": 6,
     "metadata": {},
     "output_type": "execute_result"
    }
   ],
   "source": [
    "saxs_cls = SaxsClassifier()\n",
    "\n",
    "populations, certainties = saxs_cls.classify(features)\n",
    "populations"
   ]
  },
  {
   "cell_type": "code",
   "execution_count": 7,
   "metadata": {},
   "outputs": [
    {
     "data": {
      "text/plain": [
       "OrderedDict([('unidentified', 0.9997358183368162),\n",
       "             ('guinier_porod', 0.7691542481747082),\n",
       "             ('spherical_normal', 0.994562947610819),\n",
       "             ('diffraction_peaks', 0.9865116194297342)])"
      ]
     },
     "execution_count": 7,
     "metadata": {},
     "output_type": "execute_result"
    }
   ],
   "source": [
    "certainties"
   ]
  },
  {
   "cell_type": "markdown",
   "metadata": {},
   "source": [
    "The saxskit models predict that the data are identifiable and that the scatterers include one population of a normal size distribution of spherical scatterers. The models predict no diffraction peaks with a high certainty, and no Guinier-Porod like terms with a less-high certainty."
   ]
  },
  {
   "cell_type": "markdown",
   "metadata": {},
   "source": [
    "#### Step 5. Predict scattering parameters"
   ]
  },
  {
   "cell_type": "code",
   "execution_count": 8,
   "metadata": {},
   "outputs": [
    {
     "data": {
      "text/plain": [
       "OrderedDict([('I0_floor', [0.8849155982485178]),\n",
       "             ('I0_sphere', [992.9608162954169]),\n",
       "             ('r0_sphere', [26.767198501998152]),\n",
       "             ('sigma_sphere', [0.04835906798106817])])"
      ]
     },
     "execution_count": 8,
     "metadata": {},
     "output_type": "execute_result"
    }
   ],
   "source": [
    "saxs_reg = SaxsRegressor()\n",
    "\n",
    "params = saxs_reg.predict_params(populations,features,q_I)\n",
    "params"
   ]
  },
  {
   "cell_type": "markdown",
   "metadata": {},
   "source": [
    "The saxskit models predict the mean sphere size (in Angstroms) and the standard deviation (fractional), assuming a normal size distribution. The model also gives the estimated intensity of the spherical scattering at q=0, and the estimated noise floor."
   ]
  },
  {
   "cell_type": "markdown",
   "metadata": {},
   "source": [
    "#### Step 6. See how predicted parameters reproduce measured spectrum"
   ]
  },
  {
   "cell_type": "markdown",
   "metadata": {},
   "source": [
    "#### Step 7. Refine the parameters by least-squares fitting the spectrum"
   ]
  },
  {
   "cell_type": "code",
   "execution_count": null,
   "metadata": {
    "collapsed": true
   },
   "outputs": [],
   "source": []
  }
 ],
 "metadata": {
  "kernelspec": {
   "display_name": "Python 3",
   "language": "python",
   "name": "python3"
  },
  "language_info": {
   "codemirror_mode": {
    "name": "ipython",
    "version": 3
   },
   "file_extension": ".py",
   "mimetype": "text/x-python",
   "name": "python",
   "nbconvert_exporter": "python",
   "pygments_lexer": "ipython3",
   "version": "3.5.2"
  }
 },
 "nbformat": 4,
 "nbformat_minor": 2
}
