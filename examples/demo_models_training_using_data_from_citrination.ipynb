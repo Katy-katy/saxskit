{
 "cells": [
  {
   "cell_type": "markdown",
   "metadata": {},
   "source": [
    "# Training models using data from Citrination.\n",
    "\n",
    "To train the models using data from https://slac.citrination.com , **the user must have**:\n",
    "* access to SLAC Citrination account \n",
    "* apy_key"
   ]
  },
  {
   "cell_type": "code",
   "execution_count": 1,
   "metadata": {},
   "outputs": [],
   "source": [
    "from citrination_client import CitrinationClient\n",
    "from saxskit.saxskit.saxs_models import get_data_from_Citrination\n",
    "from saxskit.saxskit.saxs_models import train_classifiers, train_regressors\n",
    "from time import time\n",
    "\n",
    "import warnings\n",
    "warnings.filterwarnings(\"ignore\")"
   ]
  },
  {
   "cell_type": "code",
   "execution_count": 2,
   "metadata": {},
   "outputs": [],
   "source": [
    "with open(\"citrination_api_key_ssrl.txt\", \"r\") as g:\n",
    "    api_key = g.readline()\n",
    "\n",
    "a_key = api_key.strip()\n",
    "\n",
    "cl = CitrinationClient(site='https://slac.citrination.com',api_key=a_key )"
   ]
  },
  {
   "cell_type": "markdown",
   "metadata": {},
   "source": [
    "SAXSKIT provides two options for training:\n",
    "* training from scratch\n",
    "* updating existing models using additional data\n",
    "\n",
    "\"training from scratch\" is useful for initial training or when we have a lot of new data (more than 30%). It is recommended to use \"hyper_parameters_search = True.\" \n",
    "\n",
    "Updating existing models is recommended when we have some new data (less than 30%). Updating existing models takes significant less time than \"training from scratch\"\n",
    "\n",
    "\n",
    "\n",
    "## Training from \"scratch\"\n",
    "\n",
    "Let's assume that initially we have only two datasets: 1 and 15. We want to use them to create the models."
   ]
  },
  {
   "cell_type": "markdown",
   "metadata": {},
   "source": [
    "#### Step 1. Get data from Citrination"
   ]
  },
  {
   "cell_type": "code",
   "execution_count": 3,
   "metadata": {},
   "outputs": [
    {
     "name": "stdout",
     "output_type": "stream",
     "text": [
      "Getting data took about 1.8684906045595804  minutes.\n"
     ]
    }
   ],
   "source": [
    "t0 = time()\n",
    "data = get_data_from_Citrination(client = cl, dataset_id_list= [1,15]) # [1,15] is a list of datasets ids\n",
    "print(\"Getting data took about\", (time()-t0)/60, \" minutes.\")"
   ]
  },
  {
   "cell_type": "markdown",
   "metadata": {},
   "source": [
    "**data** is pandas data frame that contains:\n",
    "* experiment_id - It will be used for grouping for creating crossvaligdation folders during the training. Often samples from the same experiment are very similar and we should avoid to to have the samples from the same experiment in training and validation sets\n",
    "* 20 features: 'Imax_over_Imean', 'Imax_sharpness', 'I_fluctuation',\n",
    "       'logI_fluctuation', 'logI_max_over_std', 'r_fftIcentroid', 'r_fftImax',\n",
    "       'q_Icentroid', 'q_logIcentroid', 'pearson_q', 'pearson_q2',\n",
    "       'pearson_expq', 'pearson_invexpq', 'I0_over_Imean', 'I0_curvature',\n",
    "       'q_at_half_I0', 'q_at_Iq4_min1', 'pIq4_qwidth', 'pI_qvertex',\n",
    "       'pI_qwidth'\n",
    "* 4 True / False labels: 'unidentified', 'guinier_porod', 'spherical_normal',\n",
    "       'diffraction_peaks'. If a sample have 'unidentified = True', it also have \"False\" for all other labels\n",
    "* 10 continuouse labels: 'I0_floor', 'G_gp', 'rg_gp', 'D_gp', 'I0_sphere',\n",
    "       'r0_sphere', 'sigma_sphere', 'I_pkcenter', 'q_pkcenter', 'pk_hwhm'. Some samples have \"None\" for some of these labels. For example, only samples with 'spherical_normal =  True' have some value for 'sigma_sphere'"
   ]
  },
  {
   "cell_type": "code",
   "execution_count": 4,
   "metadata": {},
   "outputs": [
    {
     "data": {
      "text/html": [
       "<div>\n",
       "<style>\n",
       "    .dataframe thead tr:only-child th {\n",
       "        text-align: right;\n",
       "    }\n",
       "\n",
       "    .dataframe thead th {\n",
       "        text-align: left;\n",
       "    }\n",
       "\n",
       "    .dataframe tbody tr th {\n",
       "        vertical-align: top;\n",
       "    }\n",
       "</style>\n",
       "<table border=\"1\" class=\"dataframe\">\n",
       "  <thead>\n",
       "    <tr style=\"text-align: right;\">\n",
       "      <th></th>\n",
       "      <th>experiment_id</th>\n",
       "      <th>Imax_over_Imean</th>\n",
       "      <th>Imax_sharpness</th>\n",
       "      <th>I_fluctuation</th>\n",
       "      <th>logI_fluctuation</th>\n",
       "      <th>logI_max_over_std</th>\n",
       "      <th>r_fftIcentroid</th>\n",
       "      <th>r_fftImax</th>\n",
       "      <th>q_Icentroid</th>\n",
       "      <th>q_logIcentroid</th>\n",
       "      <th>...</th>\n",
       "      <th>I0_floor</th>\n",
       "      <th>G_gp</th>\n",
       "      <th>rg_gp</th>\n",
       "      <th>D_gp</th>\n",
       "      <th>I0_sphere</th>\n",
       "      <th>r0_sphere</th>\n",
       "      <th>sigma_sphere</th>\n",
       "      <th>I_pkcenter</th>\n",
       "      <th>q_pkcenter</th>\n",
       "      <th>pk_hwhm</th>\n",
       "    </tr>\n",
       "  </thead>\n",
       "  <tbody>\n",
       "    <tr>\n",
       "      <th>810</th>\n",
       "      <td>R5</td>\n",
       "      <td>18.7303</td>\n",
       "      <td>1.03298</td>\n",
       "      <td>0.00109113</td>\n",
       "      <td>5.27887</td>\n",
       "      <td>3.30742</td>\n",
       "      <td>0.10774</td>\n",
       "      <td>0.00185529</td>\n",
       "      <td>0.0658953</td>\n",
       "      <td>0.0119629</td>\n",
       "      <td>...</td>\n",
       "      <td>0.434391</td>\n",
       "      <td>None</td>\n",
       "      <td>None</td>\n",
       "      <td>None</td>\n",
       "      <td>1978.14</td>\n",
       "      <td>33.8903</td>\n",
       "      <td>0.0402607</td>\n",
       "      <td>None</td>\n",
       "      <td>None</td>\n",
       "      <td>None</td>\n",
       "    </tr>\n",
       "    <tr>\n",
       "      <th>1454</th>\n",
       "      <td>R13</td>\n",
       "      <td>17.4753</td>\n",
       "      <td>1.0282</td>\n",
       "      <td>0.00102252</td>\n",
       "      <td>3.09034</td>\n",
       "      <td>2.75816</td>\n",
       "      <td>0.10391</td>\n",
       "      <td>0.00171821</td>\n",
       "      <td>0.0664384</td>\n",
       "      <td>-1.86571</td>\n",
       "      <td>...</td>\n",
       "      <td>0.128828</td>\n",
       "      <td>None</td>\n",
       "      <td>None</td>\n",
       "      <td>None</td>\n",
       "      <td>1042.52</td>\n",
       "      <td>32.8963</td>\n",
       "      <td>0.0431634</td>\n",
       "      <td>None</td>\n",
       "      <td>None</td>\n",
       "      <td>None</td>\n",
       "    </tr>\n",
       "    <tr>\n",
       "      <th>361</th>\n",
       "      <td>R2</td>\n",
       "      <td>43.8719</td>\n",
       "      <td>1.49365</td>\n",
       "      <td>0.00216948</td>\n",
       "      <td>6.51334</td>\n",
       "      <td>3.55511</td>\n",
       "      <td>0.0503532</td>\n",
       "      <td>0.00185529</td>\n",
       "      <td>0.071455</td>\n",
       "      <td>-0.404089</td>\n",
       "      <td>...</td>\n",
       "      <td>0</td>\n",
       "      <td>None</td>\n",
       "      <td>None</td>\n",
       "      <td>None</td>\n",
       "      <td>None</td>\n",
       "      <td>None</td>\n",
       "      <td>None</td>\n",
       "      <td>None</td>\n",
       "      <td>None</td>\n",
       "      <td>None</td>\n",
       "    </tr>\n",
       "    <tr>\n",
       "      <th>1052</th>\n",
       "      <td>R7</td>\n",
       "      <td>53.3159</td>\n",
       "      <td>1.91001</td>\n",
       "      <td>0.0022556</td>\n",
       "      <td>7.60686</td>\n",
       "      <td>3.8161</td>\n",
       "      <td>0.0572842</td>\n",
       "      <td>0.00185529</td>\n",
       "      <td>0.0818391</td>\n",
       "      <td>-0.285929</td>\n",
       "      <td>...</td>\n",
       "      <td>0</td>\n",
       "      <td>None</td>\n",
       "      <td>None</td>\n",
       "      <td>None</td>\n",
       "      <td>None</td>\n",
       "      <td>None</td>\n",
       "      <td>None</td>\n",
       "      <td>None</td>\n",
       "      <td>None</td>\n",
       "      <td>None</td>\n",
       "    </tr>\n",
       "    <tr>\n",
       "      <th>1204</th>\n",
       "      <td>R12</td>\n",
       "      <td>39.2003</td>\n",
       "      <td>2.03524</td>\n",
       "      <td>0.00225863</td>\n",
       "      <td>11.0873</td>\n",
       "      <td>3.54075</td>\n",
       "      <td>0.0636123</td>\n",
       "      <td>0.00171821</td>\n",
       "      <td>0.110507</td>\n",
       "      <td>2.23699</td>\n",
       "      <td>...</td>\n",
       "      <td>0</td>\n",
       "      <td>None</td>\n",
       "      <td>None</td>\n",
       "      <td>None</td>\n",
       "      <td>None</td>\n",
       "      <td>None</td>\n",
       "      <td>None</td>\n",
       "      <td>None</td>\n",
       "      <td>None</td>\n",
       "      <td>None</td>\n",
       "    </tr>\n",
       "  </tbody>\n",
       "</table>\n",
       "<p>5 rows × 35 columns</p>\n",
       "</div>"
      ]
     },
     "output_type": "execute_result",
     "metadata": {}
    }
   ],
   "source": [
    "data.head()"
   ]
  },
  {
   "cell_type": "markdown",
   "metadata": {},
   "source": [
    "#### Step 2. Train Classifiers"
   ]
  },
  {
   "cell_type": "code",
   "execution_count": 5,
   "metadata": {},
   "outputs": [
    {
     "name": "stdout",
     "output_type": "stream",
     "text": [
      "Training took about 0.8094613353411356  minutes.\n"
     ]
    }
   ],
   "source": [
    "t0 = time()\n",
    "train_classifiers(data,  hyper_parameters_search = True)\n",
    "# scalers and models will be saved in 'saxskit/saxskit/modeling_data/scalers_and_models.yml'\n",
    "# accuracy will be saved in 'saxskit/saxskit/modeling_data/accuracy.txt'\n",
    "# We can use yaml_filename='file_name.yml' as additional parametrs to save scalers and models in it\n",
    "print(\"Training took about\", (time()-t0)/60, \" minutes.\")"
   ]
  },
  {
   "cell_type": "code",
   "execution_count": 6,
   "metadata": {},
   "outputs": [
    {
     "data": {
      "text/plain": [
       "\"{'unidentified': 0.98475775909557894, 'spherical_normal': 0.97246868669787134, 'guinier_porod': 0.8033718515852486, 'diffraction_peaks': 0.97284273694727297}\""
      ]
     },
     "execution_count": 6,
     "output_type": "execute_result",
     "metadata": {}
    }
   ],
   "source": [
    "with open(\"saxskit/saxskit/modeling_data/accuracy.txt\", \"r\") as g:\n",
    "    accuracy = g.readline()\n",
    "    \n",
    "accuracy"
   ]
  },
  {
   "cell_type": "markdown",
   "metadata": {},
   "source": [
    "\"Leave N Group Out\" technique is used to calculate accuracy. Data from two experiments is excluded from training and used as testing set. For example, if we have experiments 1,2,3,5,and 5:\n",
    "* train the model on 1,2 3; test on 4,5\n",
    "* train the model on 1,2,5; test on 3,4\n",
    "* try all combinations...\n",
    "* calculate average accuracy"
   ]
  },
  {
   "cell_type": "markdown",
   "metadata": {},
   "source": [
    "#### Step 3. Train Regression models"
   ]
  },
  {
   "cell_type": "code",
   "execution_count": 7,
   "metadata": {},
   "outputs": [
    {
     "name": "stdout",
     "output_type": "stream",
     "text": [
      "Training took about 14.804892500241598  minutes.\n"
     ]
    }
   ],
   "source": [
    "t0 = time()\n",
    "train_regressors(data,  hyper_parameters_search = True)\n",
    "# scalers and models will be saved in 'saxskit/saxskit/modeling_data/scalers_and_models_regression.yml'\n",
    "# accuracy will be saved in 'saxskit/saxskit/modeling_data/accuracy_regression.txt'\n",
    "# We can use yaml_filename='file_name.yml' as additional parametrs to save scalers and models in it\n",
    "print(\"Training took about\", (time()-t0)/60, \" minutes.\")"
   ]
  },
  {
   "cell_type": "code",
   "execution_count": 8,
   "metadata": {},
   "outputs": [
    {
     "data": {
      "text/plain": [
       "\"{'r0_sphere': 0.29176775356808121, 'sigma_sphere': 0.6121171720411267, 'rg_gp': 0.27909422401837675}\""
      ]
     },
     "execution_count": 8,
     "output_type": "execute_result",
     "metadata": {}
    }
   ],
   "source": [
    "with open(\"saxskit/saxskit/modeling_data/accuracy_regression.txt\", \"r\") as g:\n",
    "    accuracy = g.readline()\n",
    "    \n",
    "accuracy"
   ]
  },
  {
   "cell_type": "markdown",
   "metadata": {},
   "source": [
    "For the regression models, \"Leave N Group Out\" technique is also used. The accuracy is calculated as absolute mean error divided by standard derivation. "
   ]
  }
 ],
 "metadata": {
  "kernelspec": {
   "display_name": "Python 3",
   "language": "python",
   "name": "python3"
  },
  "language_info": {
   "codemirror_mode": {
    "name": "ipython",
    "version": 3.0
   },
   "file_extension": ".py",
   "mimetype": "text/x-python",
   "name": "python",
   "nbconvert_exporter": "python",
   "pygments_lexer": "ipython3",
   "version": "3.6.2"
  }
 },
 "nbformat": 4,
 "nbformat_minor": 2
}