{
 "cells": [
  {
   "cell_type": "code",
   "execution_count": 1,
   "metadata": {},
   "outputs": [],
   "source": [
    "import pandas as pd\n",
    "import numpy as np\n",
    "import warnings\n",
    "warnings.filterwarnings(\"ignore\")"
   ]
  },
  {
   "cell_type": "code",
   "execution_count": 2,
   "metadata": {},
   "outputs": [],
   "source": [
    "import saxskit\n",
    "\n",
    "from saxskit.saxskit.saxs_classify import SaxsClassifier\n",
    "from saxskit.saxskit.saxs_regression import SaxsRegressor\n",
    "from saxskit.saxskit.saxs_math import profile_spectrum"
   ]
  },
  {
   "cell_type": "markdown",
   "metadata": {},
   "source": [
    "## Make a prediction for a sample from user's machine:"
   ]
  },
  {
   "cell_type": "markdown",
   "metadata": {},
   "source": [
    "#### Step 1. Read q_i from csv file"
   ]
  },
  {
   "cell_type": "code",
   "execution_count": 3,
   "metadata": {},
   "outputs": [],
   "source": [
    "q_i = np.genfromtxt ('my_data/A_230C_0212114451_0001_dz_bgsub.csv', delimiter=\",\")"
   ]
  },
  {
   "cell_type": "markdown",
   "metadata": {},
   "source": [
    "#### Step 2. Calculate profile spectrum features form q_i array"
   ]
  },
  {
   "cell_type": "code",
   "execution_count": 4,
   "metadata": {},
   "outputs": [
    {
     "data": {
      "text/plain": [
       "OrderedDict([('Imax_over_Imean', 4.9470517902546209),\n",
       "             ('Imax_sharpness', 1.0672313338353816),\n",
       "             ('I_fluctuation', 0.0074607517004287634),\n",
       "             ('logI_fluctuation', 13.626372667275586),\n",
       "             ('logI_max_over_std', 2.9236135304108033),\n",
       "             ('r_fftIcentroid', 0.10734927296816743),\n",
       "             ('r_fftImax', 0.0017857142857142857),\n",
       "             ('q_Icentroid', 0.16926846295737535),\n",
       "             ('q_logIcentroid', 0.15916086163641938),\n",
       "             ('pearson_q', -0.85216783178514088),\n",
       "             ('pearson_q2', -0.72704593572767162),\n",
       "             ('pearson_expq', -0.81670060859645666),\n",
       "             ('pearson_invexpq', 0.88458122379214799)])"
      ]
     },
     "execution_count": 4,
     "output_type": "execute_result",
     "metadata": {}
    }
   ],
   "source": [
    "features = profile_spectrum(q_i)\n",
    "features"
   ]
  },
  {
   "cell_type": "markdown",
   "metadata": {},
   "source": [
    "#### Step 3. Predict population_keys"
   ]
  },
  {
   "cell_type": "code",
   "execution_count": 5,
   "metadata": {},
   "outputs": [
    {
     "data": {
      "text/plain": [
       "OrderedDict([('unidentified', (0, 0.99996237631065632)),\n",
       "             ('guinier_porod', (1, 0.55794864283454459)),\n",
       "             ('spherical_normal', (1, 0.66959772425331632)),\n",
       "             ('diffraction_peaks', (0, 0.99999999999999478))])"
      ]
     },
     "execution_count": 5,
     "output_type": "execute_result",
     "metadata": {}
    }
   ],
   "source": [
    "m = SaxsClassifier()\n",
    "\n",
    "flags = m.run_classifier(features)\n",
    "flags"
   ]
  },
  {
   "cell_type": "markdown",
   "metadata": {},
   "source": [
    "The saxskit models predicted right all population key (form = True, precursor = True)"
   ]
  },
  {
   "cell_type": "markdown",
   "metadata": {},
   "source": [
    "#### Step 4. Predict population_keys"
   ]
  },
  {
   "cell_type": "code",
   "execution_count": 6,
   "metadata": {},
   "outputs": [
    {
     "data": {
      "text/plain": [
       "OrderedDict([('I0_floor', None),\n",
       "             ('G_gp', None),\n",
       "             ('rg_gp', array([ 4.5949216])),\n",
       "             ('D_gp', None),\n",
       "             ('I0_sphere', None),\n",
       "             ('r0_sphere', None),\n",
       "             ('sigma_sphere', None),\n",
       "             ('I_pkcenter', None),\n",
       "             ('q_pkcenter', None),\n",
       "             ('pk_hwhm', None)])"
      ]
     },
     "execution_count": 6,
     "output_type": "execute_result",
     "metadata": {}
    }
   ],
   "source": [
    "r = SaxsRegressor()\n",
    "\n",
    "population_keys = r.predict_params(flags,features, q_i)\n",
    "population_keys"
   ]
  },
  {
   "cell_type": "markdown",
   "metadata": {},
   "source": [
    "When we have \"True\" for form and precursor, we can predict rg_gp only."
   ]
  }
 ],
 "metadata": {
  "kernelspec": {
   "display_name": "Python 3",
   "language": "python",
   "name": "python3"
  },
  "language_info": {
   "codemirror_mode": {
    "name": "ipython",
    "version": 3.0
   },
   "file_extension": ".py",
   "mimetype": "text/x-python",
   "name": "python",
   "nbconvert_exporter": "python",
   "pygments_lexer": "ipython3",
   "version": "3.6.2"
  }
 },
 "nbformat": 4,
 "nbformat_minor": 2
}