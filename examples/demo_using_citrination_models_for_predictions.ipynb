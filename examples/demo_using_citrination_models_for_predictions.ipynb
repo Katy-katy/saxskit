{
 "cells": [
  {
   "cell_type": "code",
   "execution_count": 2,
   "metadata": {
    "collapsed": true
   },
   "outputs": [],
   "source": [
    "from citrination_client import CitrinationClient\n",
    "\n",
    "import pandas as pd\n",
    "import numpy as np\n",
    "import warnings\n",
    "warnings.filterwarnings(\"ignore\")"
   ]
  },
  {
   "cell_type": "code",
   "execution_count": 8,
   "metadata": {
    "collapsed": true
   },
   "outputs": [],
   "source": [
    "from saxskit.saxskit.saxs_math import profile_spectrum\n",
    "from saxskit.saxskit.saxs_citrination import CitrinationSaxsClassifer"
   ]
  },
  {
   "cell_type": "markdown",
   "metadata": {},
   "source": [
    "## Make a prediction for a sample from user's machine:"
   ]
  },
  {
   "cell_type": "markdown",
   "metadata": {},
   "source": [
    "#### Step 1. Read q_i from csv file"
   ]
  },
  {
   "cell_type": "code",
   "execution_count": 3,
   "metadata": {
    "collapsed": true
   },
   "outputs": [],
   "source": [
    "q_i = np.genfromtxt ('my_data/A_230C_0212114451_0001_dz_bgsub.csv', delimiter=\",\")"
   ]
  },
  {
   "cell_type": "markdown",
   "metadata": {},
   "source": [
    "#### Step 2. Calculate profile spectrum features form q_i array"
   ]
  },
  {
   "cell_type": "code",
   "execution_count": 6,
   "metadata": {},
   "outputs": [
    {
     "data": {
      "text/plain": [
       "OrderedDict([('Imax_over_Imean', 4.9470517902546209),\n",
       "             ('Imax_sharpness', 1.0672313338353816),\n",
       "             ('I_fluctuation', 0.0074607517004287634),\n",
       "             ('logI_fluctuation', 13.626372667275586),\n",
       "             ('logI_max_over_std', 2.9236135304108033),\n",
       "             ('r_fftIcentroid', 0.10734927296816743),\n",
       "             ('r_fftImax', 0.0017857142857142857),\n",
       "             ('q_Icentroid', 0.16926846295737535),\n",
       "             ('q_logIcentroid', 0.15916086163641938),\n",
       "             ('pearson_q', -0.85216783178514088),\n",
       "             ('pearson_q2', -0.72704593572767162),\n",
       "             ('pearson_expq', -0.81670060859645666),\n",
       "             ('pearson_invexpq', 0.88458122379214799)])"
      ]
     },
     "execution_count": 6,
     "metadata": {},
     "output_type": "execute_result"
    }
   ],
   "source": [
    "features = profile_spectrum(q_i)\n",
    "features"
   ]
  },
  {
   "cell_type": "markdown",
   "metadata": {},
   "source": [
    "#### Step 3. Create SaxsCitrination using Citrination credentials"
   ]
  },
  {
   "cell_type": "code",
   "execution_count": 9,
   "metadata": {
    "collapsed": true
   },
   "outputs": [],
   "source": [
    "m = CitrinationSaxsClassifer('https://slac.citrination.com',\"citrination_api_key_ssrl.txt\")"
   ]
  },
  {
   "cell_type": "markdown",
   "metadata": {},
   "source": [
    "#### Step 4. Predict population_keys"
   ]
  },
  {
   "cell_type": "code",
   "execution_count": 10,
   "metadata": {},
   "outputs": [
    {
     "data": {
      "text/plain": [
       "OrderedDict([('unidentified', ['0', 0.008925908790137011]),\n",
       "             ('guinier_porod', ['0', 0.06825652728289293]),\n",
       "             ('spherical_normal', ['1', 0.009891777474810012]),\n",
       "             ('diffraction_peaks', ['0', 0.006038277703566797])])"
      ]
     },
     "execution_count": 10,
     "metadata": {},
     "output_type": "execute_result"
    }
   ],
   "source": [
    "result = m.citrination_classify(features)\n",
    "result"
   ]
  },
  {
   "cell_type": "markdown",
   "metadata": {},
   "source": [
    "#### Step 5. Predict population_keys"
   ]
  },
  {
   "cell_type": "code",
   "execution_count": 11,
   "metadata": {},
   "outputs": [
    {
     "data": {
      "text/plain": [
       "OrderedDict([('I0_floor', None),\n",
       "             ('G_gp', None),\n",
       "             ('rg_gp', None),\n",
       "             ('D_gp', None),\n",
       "             ('I0_sphere', None),\n",
       "             ('r0_sphere', [14.9271126721763, 3.0781508242048616]),\n",
       "             ('sigma_sphere', [0.05926468214044096, 0.0755241957416826]),\n",
       "             ('I_pkcenter', None),\n",
       "             ('q_pkcenter', None),\n",
       "             ('pk_hwhm', None)])"
      ]
     },
     "execution_count": 11,
     "metadata": {},
     "output_type": "execute_result"
    }
   ],
   "source": [
    "result2 = m.citrination_predict(result, features, q_i)\n",
    "result2"
   ]
  },
  {
   "cell_type": "code",
   "execution_count": null,
   "metadata": {
    "collapsed": true
   },
   "outputs": [],
   "source": []
  }
 ],
 "metadata": {
  "kernelspec": {
   "display_name": "Python 3",
   "language": "python",
   "name": "python3"
  },
  "language_info": {
   "codemirror_mode": {
    "name": "ipython",
    "version": 3
   },
   "file_extension": ".py",
   "mimetype": "text/x-python",
   "name": "python",
   "nbconvert_exporter": "python",
   "pygments_lexer": "ipython3",
   "version": "3.6.2"
  }
 },
 "nbformat": 4,
 "nbformat_minor": 2
}
