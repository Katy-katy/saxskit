{
 "cells": [
  {
   "cell_type": "code",
   "execution_count": 1,
   "metadata": {
    "collapsed": true
   },
   "outputs": [],
   "source": [
    "import warnings\n",
    "warnings.filterwarnings(\"ignore\")\n",
    "\n",
    "from time import time"
   ]
  },
  {
   "cell_type": "code",
   "execution_count": 2,
   "metadata": {
    "collapsed": true
   },
   "outputs": [],
   "source": [
    "from citrination_client import CitrinationClient\n",
    "from saxskit.saxs_models import get_data_from_Citrination\n",
    "from saxskit.saxs_models import train_classifiers, train_regressors"
   ]
  },
  {
   "cell_type": "markdown",
   "metadata": {},
   "source": [
    "## Training models using data from Citrination"
   ]
  },
  {
   "cell_type": "markdown",
   "metadata": {},
   "source": [
    "#### SAXSKIT has seven pretrained models:\n",
    "* four classifiers that predict \"True\" or \"False\" for:\n",
    "    * data are identifiable\n",
    "    * the scatterers include one population of a normal size distribution of spherical scatterers\n",
    "    * the scatters include diffraction peaks \n",
    "    * the scatters include Guinier-Porod like terms\n",
    "* three regression models that predict:\n",
    "    * the mean sphere size (in Angstroms)\n",
    "    * the standard deviation (fractional), assuming a normal size distribution\n",
    "    * the estimated intensity of the spherical scattering at q=0\n",
    "\n",
    "\n",
    "#### SAXSKIT provides two options for training:\n",
    "* training from scratch\n",
    "* updating existing models using additional data\n",
    "\n",
    "\"training from scratch\" is useful for initial training or when we have a lot of new data (more than 30%). It is recommended to use \"hyper_parameters_search = True.\" \n",
    "\n",
    "Updating existing models is recommended when we have some new data (less than 30%). Updating existing models takes significant less time than \"training from scratch\"\n",
    "\n",
    "\n",
    "\n",
    "## Training from \"scratch\"\n",
    "\n",
    "Let's assume that initially we have only two datasets: 1 and 15. We want to use them to train the models."
   ]
  },
  {
   "cell_type": "markdown",
   "metadata": {},
   "source": [
    "#### Step 1. Get data from Citrination using Citrination credentials"
   ]
  },
  {
   "cell_type": "code",
   "execution_count": 3,
   "metadata": {
    "collapsed": true
   },
   "outputs": [],
   "source": [
    "with open(\"../../citrination_api_key_ssrl.txt\", \"r\") as g:\n",
    "    a_key = g.readline().strip()\n",
    "cl = CitrinationClient(site='https://slac.citrination.com',api_key=a_key)\n",
    "\n",
    "data = get_data_from_Citrination(client = cl, dataset_id_list= [1,15]) # [1,15] is a list of datasets ids"
   ]
  },
  {
   "cell_type": "code",
   "execution_count": 4,
   "metadata": {},
   "outputs": [
    {
     "data": {
      "text/html": [
       "<div>\n",
       "<style>\n",
       "    .dataframe thead tr:only-child th {\n",
       "        text-align: right;\n",
       "    }\n",
       "\n",
       "    .dataframe thead th {\n",
       "        text-align: left;\n",
       "    }\n",
       "\n",
       "    .dataframe tbody tr th {\n",
       "        vertical-align: top;\n",
       "    }\n",
       "</style>\n",
       "<table border=\"1\" class=\"dataframe\">\n",
       "  <thead>\n",
       "    <tr style=\"text-align: right;\">\n",
       "      <th></th>\n",
       "      <th>experiment_id</th>\n",
       "      <th>Imax_over_Imean</th>\n",
       "      <th>Imax_sharpness</th>\n",
       "      <th>I_fluctuation</th>\n",
       "      <th>logI_fluctuation</th>\n",
       "      <th>logI_max_over_std</th>\n",
       "      <th>r_fftIcentroid</th>\n",
       "      <th>r_fftImax</th>\n",
       "      <th>q_Icentroid</th>\n",
       "      <th>q_logIcentroid</th>\n",
       "      <th>...</th>\n",
       "      <th>I0_floor</th>\n",
       "      <th>G_gp</th>\n",
       "      <th>rg_gp</th>\n",
       "      <th>D_gp</th>\n",
       "      <th>I0_sphere</th>\n",
       "      <th>r0_sphere</th>\n",
       "      <th>sigma_sphere</th>\n",
       "      <th>I_pkcenter</th>\n",
       "      <th>q_pkcenter</th>\n",
       "      <th>pk_hwhm</th>\n",
       "    </tr>\n",
       "  </thead>\n",
       "  <tbody>\n",
       "    <tr>\n",
       "      <th>482</th>\n",
       "      <td>R3</td>\n",
       "      <td>31.9068</td>\n",
       "      <td>1.71153</td>\n",
       "      <td>0.00232749</td>\n",
       "      <td>41.3331</td>\n",
       "      <td>3.44558</td>\n",
       "      <td>0.0655392</td>\n",
       "      <td>0.00185529</td>\n",
       "      <td>0.0694955</td>\n",
       "      <td>0.0754474</td>\n",
       "      <td>...</td>\n",
       "      <td>None</td>\n",
       "      <td>None</td>\n",
       "      <td>None</td>\n",
       "      <td>None</td>\n",
       "      <td>None</td>\n",
       "      <td>None</td>\n",
       "      <td>None</td>\n",
       "      <td>None</td>\n",
       "      <td>None</td>\n",
       "      <td>None</td>\n",
       "    </tr>\n",
       "    <tr>\n",
       "      <th>321</th>\n",
       "      <td>R2</td>\n",
       "      <td>3.38101</td>\n",
       "      <td>1.25795</td>\n",
       "      <td>0.0179402</td>\n",
       "      <td>7.46197</td>\n",
       "      <td>1.83399</td>\n",
       "      <td>0.108849</td>\n",
       "      <td>0.00185529</td>\n",
       "      <td>0.232931</td>\n",
       "      <td>4.83148</td>\n",
       "      <td>...</td>\n",
       "      <td>0</td>\n",
       "      <td>2.32293</td>\n",
       "      <td>4.50959</td>\n",
       "      <td>4</td>\n",
       "      <td>None</td>\n",
       "      <td>None</td>\n",
       "      <td>None</td>\n",
       "      <td>None</td>\n",
       "      <td>None</td>\n",
       "      <td>None</td>\n",
       "    </tr>\n",
       "    <tr>\n",
       "      <th>256</th>\n",
       "      <td>R1</td>\n",
       "      <td>18.5818</td>\n",
       "      <td>1.02822</td>\n",
       "      <td>0.00109381</td>\n",
       "      <td>3.44362</td>\n",
       "      <td>2.80407</td>\n",
       "      <td>0.107346</td>\n",
       "      <td>0.00185529</td>\n",
       "      <td>0.0651221</td>\n",
       "      <td>-0.688958</td>\n",
       "      <td>...</td>\n",
       "      <td>0.105379</td>\n",
       "      <td>None</td>\n",
       "      <td>None</td>\n",
       "      <td>None</td>\n",
       "      <td>1602.76</td>\n",
       "      <td>33.8187</td>\n",
       "      <td>0.051751</td>\n",
       "      <td>None</td>\n",
       "      <td>None</td>\n",
       "      <td>None</td>\n",
       "    </tr>\n",
       "  </tbody>\n",
       "</table>\n",
       "<p>3 rows × 35 columns</p>\n",
       "</div>"
      ],
      "text/plain": [
       "    experiment_id Imax_over_Imean Imax_sharpness I_fluctuation  \\\n",
       "482            R3         31.9068        1.71153    0.00232749   \n",
       "321            R2         3.38101        1.25795     0.0179402   \n",
       "256            R1         18.5818        1.02822    0.00109381   \n",
       "\n",
       "    logI_fluctuation logI_max_over_std r_fftIcentroid   r_fftImax q_Icentroid  \\\n",
       "482          41.3331           3.44558      0.0655392  0.00185529   0.0694955   \n",
       "321          7.46197           1.83399       0.108849  0.00185529    0.232931   \n",
       "256          3.44362           2.80407       0.107346  0.00185529   0.0651221   \n",
       "\n",
       "    q_logIcentroid   ...    I0_floor     G_gp    rg_gp  D_gp I0_sphere  \\\n",
       "482      0.0754474   ...        None     None     None  None      None   \n",
       "321        4.83148   ...           0  2.32293  4.50959     4      None   \n",
       "256      -0.688958   ...    0.105379     None     None  None   1602.76   \n",
       "\n",
       "    r0_sphere sigma_sphere I_pkcenter q_pkcenter pk_hwhm  \n",
       "482      None         None       None       None    None  \n",
       "321      None         None       None       None    None  \n",
       "256   33.8187     0.051751       None       None    None  \n",
       "\n",
       "[3 rows x 35 columns]"
      ]
     },
     "execution_count": 4,
     "metadata": {},
     "output_type": "execute_result"
    }
   ],
   "source": [
    "data.head(3)"
   ]
  },
  {
   "cell_type": "markdown",
   "metadata": {},
   "source": [
    "**data** is a pandas data frame that contains:\n",
    "* experiment_id - It will be used for grouping for creating crossvaligdation folders during the training. Often samples from the same experiment are very similar and we should avoid to to have the samples from the same experiment in training and validation sets\n",
    "\n",
    "\n",
    "* Twenty features: \n",
    "       'Imax_over_Imean', 'Imax_sharpness', 'I_fluctuation',\n",
    "       'logI_fluctuation', 'logI_max_over_std', 'r_fftIcentroid', 'r_fftImax',\n",
    "       'q_Icentroid', 'q_logIcentroid', 'pearson_q', 'pearson_q2',\n",
    "       'pearson_expq', 'pearson_invexpq', 'I0_over_Imean', 'I0_curvature',\n",
    "       'q_at_half_I0', 'q_at_Iq4_min1', 'pIq4_qwidth', 'pI_qvertex',\n",
    "       'pI_qwidth'.\n",
    " \n",
    " \n",
    "* Four True / False labels (for classification models): \n",
    "       'unidentified', 'guinier_porod', 'spherical_normal',\n",
    "       'diffraction_peaks'. \n",
    "If a sample have 'unidentified = True', it also have \"False\" for all other labels.\n",
    "\n",
    "\n",
    "* Ten continuouse labels (for regression models): \n",
    "       'I0_floor', 'G_gp', 'rg_gp', 'D_gp', 'I0_sphere',\n",
    "       'r0_sphere', 'sigma_sphere', 'I_pkcenter', 'q_pkcenter', 'pk_hwhm'. \n",
    "Some samples have \"None\" for some of these labels. For example, only samples with 'spherical_normal =  True' have some value for 'sigma_sphere'"
   ]
  },
  {
   "cell_type": "markdown",
   "metadata": {},
   "source": [
    "#### Step 2. Train Classifiers"
   ]
  },
  {
   "cell_type": "code",
   "execution_count": 5,
   "metadata": {},
   "outputs": [
    {
     "name": "stdout",
     "output_type": "stream",
     "text": [
      "Training took about 1.0713050007820129  minutes.\n"
     ]
    }
   ],
   "source": [
    "t0 = time()\n",
    "train_classifiers(data,  hyper_parameters_search = True)\n",
    "# scalers and models will be saved in 'saxskit/saxskit/modeling_data/scalers_and_models.yml'\n",
    "# accuracy will be saved in 'saxskit/saxskit/modeling_data/accuracy.txt'\n",
    "# We can use yaml_filename='file_name.yml' as additional parametrs to save scalers and models in it\n",
    "print(\"Training took about\", (time()-t0)/60, \" minutes.\")"
   ]
  },
  {
   "cell_type": "code",
   "execution_count": 6,
   "metadata": {},
   "outputs": [
    {
     "data": {
      "text/plain": [
       "\"{'unidentified': 0.98480689025875612, 'spherical_normal': 0.96939055265495433, 'guinier_porod': 0.84126978694564425, 'diffraction_peaks': 0.97664861249419055}\""
      ]
     },
     "execution_count": 6,
     "metadata": {},
     "output_type": "execute_result"
    }
   ],
   "source": [
    "with open(\"../saxskit/modeling_data/accuracy.txt\", \"r\") as g:\n",
    "    accuracy = g.readline()    \n",
    "accuracy"
   ]
  },
  {
   "cell_type": "markdown",
   "metadata": {},
   "source": [
    "Since often the data form the same experiment is highly correlated, \"Leave N Group Out\" technique is used to calculate accuracy. Data from two experiments is excluded from training and used as testing set. For example, if we have experiments 1,2,3,5,and 5:\n",
    "* train the model on 1,2 3; test on 4,5\n",
    "* train the model on 1,2,5; test on 3,4\n",
    "* try all combinations...\n",
    "* calculate average accuracy"
   ]
  },
  {
   "cell_type": "markdown",
   "metadata": {},
   "source": [
    "#### Step 3. Train Regression models"
   ]
  },
  {
   "cell_type": "code",
   "execution_count": 7,
   "metadata": {},
   "outputs": [
    {
     "name": "stdout",
     "output_type": "stream",
     "text": [
      "Training took about 14.730934969584148  minutes.\n"
     ]
    }
   ],
   "source": [
    "t0 = time()\n",
    "train_regressors(data,  hyper_parameters_search = True)\n",
    "# scalers and models will be saved in 'saxskit/saxskit/modeling_data/scalers_and_models_regression.yml'\n",
    "# accuracy will be saved in 'saxskit/saxskit/modeling_data/accuracy_regression.txt'\n",
    "# We can use yaml_filename='file_name.yml' as additional parametrs to save scalers and models in it\n",
    "print(\"Training took about\", (time()-t0)/60, \" minutes.\")"
   ]
  },
  {
   "cell_type": "code",
   "execution_count": 8,
   "metadata": {},
   "outputs": [
    {
     "data": {
      "text/plain": [
       "\"{'r0_sphere': 0.29201002237526336, 'sigma_sphere': 0.61203081826345462, 'rg_gp': 0.27677267393412075}\""
      ]
     },
     "execution_count": 8,
     "metadata": {},
     "output_type": "execute_result"
    }
   ],
   "source": [
    "with open(\"../saxskit/modeling_data/accuracy_regression.txt\", \"r\") as g:\n",
    "    accuracy = g.readline()    \n",
    "accuracy"
   ]
  },
  {
   "cell_type": "markdown",
   "metadata": {},
   "source": [
    "For the regression models, \"Leave N Group Out\" technique is also used. The accuracy is calculated as absolute mean error divided by standard derivation. "
   ]
  },
  {
   "cell_type": "code",
   "execution_count": null,
   "metadata": {
    "collapsed": true
   },
   "outputs": [],
   "source": []
  }
 ],
 "metadata": {
  "kernelspec": {
   "display_name": "Python 3",
   "language": "python",
   "name": "python3"
  },
  "language_info": {
   "codemirror_mode": {
    "name": "ipython",
    "version": 3
   },
   "file_extension": ".py",
   "mimetype": "text/x-python",
   "name": "python",
   "nbconvert_exporter": "python",
   "pygments_lexer": "ipython3",
   "version": "3.6.2"
  }
 },
 "nbformat": 4,
 "nbformat_minor": 2
}
